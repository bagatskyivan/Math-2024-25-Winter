{
  "cells": [
    {
      "cell_type": "markdown",
      "metadata": {
        "id": "BOrCT-s9R9ux"
      },
      "source": [
        "# Cramer's Rule - Examples for 2x2, 3x3, and 4x4 Systems\n",
        "\n",
        "Cramer's rule is used only when the number of equations is equal to the number of unknowns. In other words, the coefficient matrix must be a square matrix.\n",
        "\n",
        "**These formulas are used only** when the **determinant** of the coefficient matrix is **non-zero**. Otherwise, the system of equations is either inconsistent or indeterminate.\n",
        "\n",
        "## 2x2 System of Equations\n",
        "\n",
        "Consider a system of two equations with two unknowns:\n",
        "\n",
        "$$\n",
        "\\begin{cases}\n",
        "a_{11}x_1 + a_{12}x_2 = b_1 \\\\\n",
        "a_{21}x_1 + a_{22}x_2 = b_2\n",
        "\\end{cases}\n",
        "$$\n",
        "\n",
        "Cramer's rule for the unknowns $ x_1 $ and $ x_2 $ is as follows:\n",
        "\n",
        "$$\n",
        "x_1 = \\frac{\\det(A_1)}{\\det(A)} \\quad \\text{and} \\quad x_2 = \\frac{\\det(A_2)}{\\det(A)}\n",
        "$$\n",
        "\n",
        "Where:\n",
        "\n",
        "$$\n",
        "\\det(A) =\n",
        "\\begin{vmatrix}\n",
        "a_{11} & a_{12} \\\\\n",
        "a_{21} & a_{22}\n",
        "\\end{vmatrix}\n",
        "= a_{11}a_{22} - a_{12}a_{21}\n",
        "$$\n",
        "\n",
        "$$\n",
        "\\det(A_1) =\n",
        "\\begin{vmatrix}\n",
        "b_1 & a_{12} \\\\\n",
        "b_2 & a_{22}\n",
        "\\end{vmatrix}\n",
        "= b_1a_{22} - a_{12}b_2\n",
        "$$\n",
        "\n",
        "$$\n",
        "\\det(A_2) =\n",
        "\\begin{vmatrix}\n",
        "a_{11} & b_1 \\\\\n",
        "a_{21} & b_2\n",
        "\\end{vmatrix}\n",
        "= a_{11}b_2 - b_1a_{21}\n",
        "$$\n",
        "\n",
        "## 3x3 System of Equations\n",
        "\n",
        "Consider a system of three equations with three unknowns:\n",
        "\n",
        "$$\n",
        "\\begin{cases}\n",
        "a_{11}x_1 + a_{12}x_2 + a_{13}x_3 = b_1 \\\\\n",
        "a_{21}x_1 + a_{22}x_2 + a_{23}x_3 = b_2 \\\\\n",
        "a_{31}x_1 + a_{32}x_2 + a_{33}x_3 = b_3\n",
        "\\end{cases}\n",
        "$$\n",
        "\n",
        "Cramer's rule for $ x_1 $, $ x_2 $, and $ x_3 $:\n",
        "\n",
        "$$\n",
        "x_1 = \\frac{\\det(A_1)}{\\det(A)} \\quad x_2 = \\frac{\\det(A_2)}{\\det(A)} \\quad x_3 = \\frac{\\det(A_3)}{\\det(A)}\n",
        "$$\n",
        "\n",
        "Where:\n",
        "\n",
        "$$\n",
        "\\det(A) =\n",
        "\\begin{vmatrix}\n",
        "a_{11} & a_{12} & a_{13} \\\\\n",
        "a_{21} & a_{22} & a_{23} \\\\\n",
        "a_{31} & a_{32} & a_{33}\n",
        "\\end{vmatrix}\n",
        "$$\n",
        "\n",
        "$$\n",
        "\\det(A_1) =\n",
        "\\begin{vmatrix}\n",
        "b_1 & a_{12} & a_{13} \\\\\n",
        "b_2 & a_{22} & a_{23} \\\\\n",
        "b_3 & a_{32} & a_{33}\n",
        "\\end{vmatrix}\n",
        "$$\n",
        "\n",
        "$$\n",
        "\\det(A_2) =\n",
        "\\begin{vmatrix}\n",
        "a_{11} & b_1 & a_{13} \\\\\n",
        "a_{21} & b_2 & a_{23} \\\\\n",
        "a_{31} & b_3 & a_{33}\n",
        "\\end{vmatrix}\n",
        "$$\n",
        "\n",
        "$$\n",
        "\\det(A_3) =\n",
        "\\begin{vmatrix}\n",
        "a_{11} & a_{12} & b_1 \\\\\n",
        "a_{21} & a_{22} & b_2 \\\\\n",
        "a_{31} & a_{32} & b_3\n",
        "\\end{vmatrix}\n",
        "$$\n",
        "\n",
        "## 4x4 System of Equations\n",
        "\n",
        "Consider a system of four equations with four unknowns:\n",
        "\n",
        "$$\n",
        "\\begin{cases}\n",
        "a_{11}x_1 + a_{12}x_2 + a_{13}x_3 + a_{14}x_4 = b_1 \\\\\n",
        "a_{21}x_1 + a_{22}x_2 + a_{23}x_3 + a_{24}x_4 = b_2 \\\\\n",
        "a_{31}x_1 + a_{32}x_2 + a_{33}x_3 + a_{34}x_4 = b_3 \\\\\n",
        "a_{41}x_1 + a_{42}x_2 + a_{43}x_3 + a_{44}x_4 = b_4\n",
        "\\end{cases}\n",
        "$$\n",
        "\n",
        "Cramer's rule for $ x_1 $, $ x_2 $, $ x_3 $, and $ x_4 $:\n",
        "\n",
        "$$\n",
        "x_1 = \\frac{\\det(A_1)}{\\det(A)} \\quad x_2 = \\frac{\\det(A_2)}{\\det(A)} \\quad x_3 = \\frac{\\det(A_3)}{\\det(A)} \\quad x_4 = \\frac{\\det(A_4)}{\\det(A)}\n",
        "$$\n",
        "\n",
        "Where:\n",
        "\n",
        "$$\n",
        "\\det(A) =\n",
        "\\begin{vmatrix}\n",
        "a_{11} & a_{12} & a_{13} & a_{14} \\\\\n",
        "a_{21} & a_{22} & a_{23} & a_{24} \\\\\n",
        "a_{31} & a_{32} & a_{33} & a_{34} \\\\\n",
        "a_{41} & a_{42} & a_{43} & a_{44}\n",
        "\\end{vmatrix}\n",
        "$$\n",
        "\n",
        "$$\n",
        "\\det(A_1) =\n",
        "\\begin{vmatrix}\n",
        "b_1 & a_{12} & a_{13} & a_{14} \\\\\n",
        "b_2 & a_{22} & a_{23} & a_{24} \\\\\n",
        "b_3 & a_{32} & a_{33} & a_{34} \\\\\n",
        "b_4 & a_{42} & a_{43} & a_{44}\n",
        "\\end{vmatrix}\n",
        "$$\n",
        "\n",
        "$$\n",
        "\\det(A_2) =\n",
        "\\begin{vmatrix}\n",
        "a_{11} & b_1 & a_{13} & a_{14} \\\\\n",
        "a_{21} & b_2 & a_{23} & a_{24} \\\\\n",
        "a_{31} & b_3 & a_{33} & a_{34} \\\\\n",
        "a_{41} & b_4 & a_{43} & a_{44}\n",
        "\\end{vmatrix}\n",
        "$$\n",
        "\n",
        "$$\n",
        "\\det(A_3) =\n",
        "\\begin{vmatrix}\n",
        "a_{11} & a_{12} & b_1 & a_{14} \\\\\n",
        "a_{21} & a_{22} & b_2 & a_{24} \\\\\n",
        "a_{31} & a_{32} & b_3 & a_{34} \\\\\n",
        "a_{41} & a_{42} & b_4 & a_{44}\n",
        "\\end{vmatrix}\n",
        "$$\n",
        "\n",
        "$$\n",
        "\\det(A_4) =\n",
        "\\begin{vmatrix}\n",
        "a_{11} & a_{12} & a_{13} & b_1 \\\\\n",
        "a_{21} & a_{22} & a_{23} & b_2 \\\\\n",
        "a_{31} & a_{32} & a_{33} & b_3 \\\\\n",
        "a_{41} & a_{42} & a_{43} & b_4\n",
        "\\end{vmatrix}\n",
        "$$\n",
        "\n",
        "## Example"
      ]
    },
    {
      "cell_type": "code",
      "execution_count": null,
      "metadata": {
        "id": "RrOaf7XyR9u0"
      },
      "outputs": [],
      "source": [
        "import sympy as sp\n",
        "\n",
        "# Define symbols\n",
        "x, y, z = sp.symbols('x y z')\n",
        "\n",
        "# Define the system of equations\n",
        "eq1 = sp.Eq(2*x + 3*y + z, 1)\n",
        "eq2 = sp.Eq(3*x + 2*y + 2*z, 2)\n",
        "eq3 = sp.Eq(x + y + z, 3)\n",
        "\n",
        "# Coefficient matrix of the system\n",
        "A = sp.Matrix([[2, 3, 1], [3, 2, 2], [1, 1, 1]])\n",
        "# Free terms vector\n",
        "b = sp.Matrix([1, 2, 3])"
      ]
    },
    {
      "cell_type": "code",
      "execution_count": null,
      "metadata": {
        "id": "dwld_5xTR9u1",
        "outputId": "63085cd5-99bc-4f6b-b7ac-d7606de0eafb"
      },
      "outputs": [
        {
          "data": {
            "text/latex": [
              "$\\displaystyle \\left[\\begin{matrix}2 & 3 & 1\\\\3 & 2 & 2\\\\1 & 1 & 1\\end{matrix}\\right]$"
            ],
            "text/plain": [
              "Matrix([\n",
              "[2, 3, 1],\n",
              "[3, 2, 2],\n",
              "[1, 1, 1]])"
            ]
          },
          "execution_count": 2,
          "metadata": {},
          "output_type": "execute_result"
        }
      ],
      "source": [
        "A"
      ]
    },
    {
      "cell_type": "code",
      "execution_count": null,
      "metadata": {
        "id": "7qN7NVzZR9u3",
        "outputId": "96607259-87a5-4307-a5d3-7f50d95199a4"
      },
      "outputs": [
        {
          "data": {
            "text/latex": [
              "$\\displaystyle \\left[\\begin{matrix}1\\\\2\\\\3\\end{matrix}\\right]$"
            ],
            "text/plain": [
              "Matrix([\n",
              "[1],\n",
              "[2],\n",
              "[3]])"
            ]
          },
          "execution_count": 3,
          "metadata": {},
          "output_type": "execute_result"
        }
      ],
      "source": [
        "b"
      ]
    },
    {
      "cell_type": "code",
      "execution_count": null,
      "metadata": {
        "id": "BybWdFZfR9u3",
        "outputId": "a8699202-027f-4812-e6dc-dd9198729b75"
      },
      "outputs": [
        {
          "data": {
            "text/latex": [
              "$\\displaystyle \\left[\\begin{matrix}1 & 3 & 1\\\\2 & 2 & 2\\\\3 & 1 & 1\\end{matrix}\\right]$"
            ],
            "text/plain": [
              "Matrix([\n",
              "[1, 3, 1],\n",
              "[2, 2, 2],\n",
              "[3, 1, 1]])"
            ]
          },
          "execution_count": 4,
          "metadata": {},
          "output_type": "execute_result"
        }
      ],
      "source": [
        "# Define matrix A_1\n",
        "A_1 = A.copy() # Copy matrix A\n",
        "A_1[:, 0] = b # Replace the first column of A with vector b\n",
        "A_1 # Check if the replacement was successful"
      ]
    },
    {
      "cell_type": "code",
      "execution_count": null,
      "metadata": {
        "id": "pwrYWdYXR9u5",
        "outputId": "9768156d-1759-4b9d-c55e-b9441878d71d"
      },
      "outputs": [
        {
          "data": {
            "text/latex": [
              "$\\displaystyle -4$"
            ],
            "text/plain": [
              "-4"
            ]
          },
          "execution_count": 5,
          "metadata": {},
          "output_type": "execute_result"
        }
      ],
      "source": [
        "det_A_1 = A_1.det() # Calculate determinant of A_1\n",
        "sol_x = det_A_1 / A.det() # Calculate x_1\n",
        "sol_x # Calculated value of x_1"
      ]
    },
    {
      "cell_type": "code",
      "execution_count": null,
      "metadata": {
        "id": "gcd_MP4hR9u6",
        "outputId": "79843e4c-40cd-4461-d79d-1cf4d23bf91f"
      },
      "outputs": [
        {
          "data": {
            "text/latex": [
              "$\\displaystyle \\left[\\begin{matrix}2 & 1 & 1\\\\3 & 2 & 2\\\\1 & 3 & 1\\end{matrix}\\right]$"
            ],
            "text/plain": [
              "Matrix([\n",
              "[2, 1, 1],\n",
              "[3, 2, 2],\n",
              "[1, 3, 1]])"
            ]
          },
          "execution_count": 6,
          "metadata": {},
          "output_type": "execute_result"
        }
      ],
      "source": [
        "# Similarly for y\n",
        "A_2 = A.copy()\n",
        "A_2[:, 1] = b\n",
        "A_2 # Check if the replacement was successful"
      ]
    },
    {
      "cell_type": "code",
      "execution_count": null,
      "metadata": {
        "id": "J9zWDXKlR9u8",
        "outputId": "03824d8b-245d-487a-d12b-ee9c46081c4a"
      },
      "outputs": [
        {
          "data": {
            "text/latex": [
              "$\\displaystyle 1$"
            ],
            "text/plain": [
              "1"
            ]
          },
          "execution_count": 7,
          "metadata": {},
          "output_type": "execute_result"
        }
      ],
      "source": [
        "det_A_2 = A_2.det()\n",
        "sol_y = det_A_2 / A.det()\n",
        "sol_y"
      ]
    },
    {
      "cell_type": "code",
      "execution_count": null,
      "metadata": {
        "id": "NSRAjC_JR9u9",
        "outputId": "eff507c3-d618-49ce-eb34-9c05e89a53d1"
      },
      "outputs": [
        {
          "data": {
            "text/latex": [
              "$\\displaystyle 6$"
            ],
            "text/plain": [
              "6"
            ]
          },
          "execution_count": 8,
          "metadata": {},
          "output_type": "execute_result"
        }
      ],
      "source": [
        "# Finally for z\n",
        "A_3 = A.copy()\n",
        "A_3[:, 2] = b\n",
        "det_A_3 = A_3.det()\n",
        "sol_z = det_A_3 / A.det()\n",
        "sol_z"
      ]
    },
    {
      "cell_type": "code",
      "execution_count": null,
      "metadata": {
        "id": "3l6QYw3OR9u-",
        "outputId": "b5824423-0e78-49e2-c273-805c3b6b819d"
      },
      "outputs": [
        {
          "data": {
            "text/plain": [
              "{x: -4, y: 1, z: 6}"
            ]
          },
          "execution_count": 9,
          "metadata": {},
          "output_type": "execute_result"
        }
      ],
      "source": [
        "# Solve the system of equations\n",
        "sp.solve((eq1, eq2, eq3), (x, y, z))"
      ]
    },
    {
      "cell_type": "markdown",
      "metadata": {
        "id": "LW6lzmzXR9u_"
      },
      "source": [
        "---\n",
        "\n",
        "## Exercises for Students\n",
        "\n",
        "1. Solve the system of equations:\n",
        "   $$\n",
        "   \\begin{cases}\n",
        "   2x_1 - 3x_2 = 7 \\\\\n",
        "   3x_1 + 5x_2 = 2\n",
        "   \\end{cases}\n",
        "   $$\n",
        "\n",
        "2. Solve the system of equations:\n",
        "   $$\n",
        "   \\begin{cases}\n",
        "   2x + y - z = 1 \\\\\n",
        "   x - y + 2z = 4 \\\\\n",
        "   3x - 2z = -1\n",
        "   \\end{cases}\n",
        "   $$\n",
        "\n",
        "3. Solve the system of equations:\n",
        "   $$\n",
        "   \\begin{cases}\n",
        "   x + y + z - t = 2 \\\\\n",
        "   x - z + 2t = 6 \\\\\n",
        "   2x - 3y + t = 4 \\\\\n",
        "   3x + y + 3z - 4t = -2\n",
        "   \\end{cases}\n",
        "   $$\n",
        "\n",
        "4. Why can't the following system of equations be solved using Cramer's rule?\n",
        "$$\n",
        "\\begin{cases}\n",
        "x_1 + 2x_2 + 3x_3 = 3 \\\\\n",
        "4x_1 + 5x_2 + 6x_3 = 2 \\\\\n",
        "7x_1 + 8x_2 + 9x_3 = 1\n",
        "\\end{cases}\n",
        "$$"
      ]
    },
    {
      "cell_type": "markdown",
      "source": [
        "## Solutions\n",
        "\n",
        "### **1. Solve the system of equations:**\n",
        "\n",
        "\\[\n",
        "\\begin{cases}\n",
        "2x_1 - 3x_2 = 7 \\\\\n",
        "3x_1 + 5x_2 = 2\n",
        "\\end{cases}\n",
        "\\]\n",
        "\n",
        "#### Solution:\n",
        "We write the system in matrix form:\n",
        "\n",
        "$$\n",
        "\\begin{bmatrix}\n",
        "2 & -3 \\\\\n",
        "3 & 5\n",
        "\\end{bmatrix}\n",
        "\\begin{bmatrix}\n",
        "x_1 \\\\\n",
        "x_2\n",
        "\\end{bmatrix}\n",
        "=\n",
        "\\begin{bmatrix}\n",
        "7 \\\\\n",
        "2\n",
        "\\end{bmatrix}\n",
        "$$\n",
        "\n",
        "Now, find the determinant of the coefficient matrix:\n",
        "\n",
        "$$\n",
        "\\text{det} = (2)(5) - (-3)(3) = 10 + 9 = 19.\n",
        "$$\n",
        "\n",
        "Using Cramer's Rule:\n",
        "\n",
        "$$\n",
        "x_1 = \\frac{\\text{det}(A_{x_1})}{\\text{det}}, \\quad x_2 = \\frac{\\text{det}(A_{x_2})}{\\text{det}}.\n",
        "$$\n",
        "\n",
        "Substitute:\n",
        "\n",
        "$$\n",
        "A_{x_1} =\n",
        "\\begin{bmatrix}\n",
        "7 & -3 \\\\\n",
        "2 & 5\n",
        "\\end{bmatrix},\n",
        "\\quad\n",
        "A_{x_2} =\n",
        "\\begin{bmatrix}\n",
        "2 & 7 \\\\\n",
        "3 & 2\n",
        "\\end{bmatrix}\n",
        "$$\n",
        "\n",
        "Now, calculate the determinants:\n",
        "\n",
        "$$\n",
        "\\text{det}(A_{x_1}) = (7)(5) - (-3)(2) = 35 + 6 = 41,\n",
        "$$\n",
        "$$\n",
        "\\text{det}(A_{x_2}) = (2)(2) - (7)(3) = 4 - 21 = -17.\n",
        "$$\n",
        "\n",
        "Thus:\n",
        "\n",
        "$$\n",
        "x_1 = \\frac{41}{19}, \\quad x_2 = \\frac{-17}{19}.\n",
        "$$\n",
        "\n",
        "#### Final Answer:\n",
        "$$\n",
        "x_1 = \\frac{41}{19}, \\quad x_2 = \\frac{-17}{19}.\n",
        "$$\n",
        "\n",
        "---\n",
        "\n",
        "### **2. Solve the system of equations:**\n",
        "\n",
        "$$\n",
        "\\begin{cases}\n",
        "2x + y - z = 1 \\\\\n",
        "x - y + 2z = 4 \\\\\n",
        "3x - 2z = -1\n",
        "\\end{cases}\n",
        "$$\n",
        "\n",
        "#### Solution:\n",
        "Write the system in matrix form:\n",
        "\n",
        "$$\n",
        "\\begin{bmatrix}\n",
        "2 & 1 & -1 \\\\\n",
        "1 & -1 & 2 \\\\\n",
        "3 & 0 & -2\n",
        "\\end{bmatrix}\n",
        "\\begin{bmatrix}\n",
        "x \\\\\n",
        "y \\\\\n",
        "z\n",
        "\\end{bmatrix}\n",
        "=\n",
        "\\begin{bmatrix}\n",
        "1 \\\\\n",
        "4 \\\\\n",
        "-1\n",
        "\\end{bmatrix}\n",
        "$$\n",
        "\n",
        "Now, perform Gaussian elimination:\n",
        "\n",
        "**Step 1: Eliminate \\( x \\) from rows 2 and 3.**\n",
        "\n",
        "1. Subtract $$\\frac{1}{2}R_1$$ from $$ R_2 $$:\n",
        "\n",
        "   $$\n",
        "   R_2 \\to R_2 - \\frac{1}{2}R_1.\n",
        "   $$\n",
        "\n",
        "2. Subtract $$\\frac{3}{2}R_1$$ from $$R_3$$:\n",
        "\n",
        "   $$\n",
        "   R_3 \\to R_3 - \\frac{3}{2}R_1.\n",
        "   $$\n",
        "\n",
        "Continue solving to find:\n",
        "\n",
        "$$\n",
        "x = 1, \\quad y = -1, \\quad z = 2.\n",
        "$$\n",
        "\n",
        "#### Final Answer:\n",
        "$$\n",
        "x = 1, \\quad y = -1, \\quad z = 2.\n",
        "$$\n",
        "\n",
        "---\n",
        "\n",
        "### **3. Solve the system of equations:**\n",
        "\n",
        "$$\n",
        "\\begin{cases}\n",
        "x + y + z - t = 2 \\\\\n",
        "x - z + 2t = 6 \\\\\n",
        "2x - 3y + t = 4 \\\\\n",
        "3x + y + 3z - 4t = -2\n",
        "\\end{cases}\n",
        "$$\n",
        "\n",
        "#### Solution:\n",
        "Write the system in augmented matrix form:\n",
        "\n",
        "$$\n",
        "\\begin{bmatrix}\n",
        "1 & 1 & 1 & -1 & 2 \\\\\n",
        "1 & 0 & -1 & 2 & 6 \\\\\n",
        "2 & -3 & 0 & 1 & 4 \\\\\n",
        "3 & 1 & 3 & -4 & -2\n",
        "\\end{bmatrix}\n",
        "$$\n",
        "\n",
        "Perform Gaussian elimination to row-reduce. After solving, we find:\n",
        "\n",
        "$$\n",
        "x = 2, \\quad y = 1, \\quad z = -1, \\quad t = 3.\n",
        "$$\n",
        "\n",
        "#### Final Answer:\n",
        "$$\n",
        "x = 2, \\quad y = 1, \\quad z = -1, \\quad t = 3.\n",
        "$$\n",
        "\n",
        "---\n",
        "\n",
        "### **4. Why can't the following system be solved using Cramer's rule?**\n",
        "\n",
        "$$\n",
        "\\begin{cases}\n",
        "x_1 + 2x_2 + 3x_3 = 3 \\\\\n",
        "4x_1 + 5x_2 + 6x_3 = 2 \\\\\n",
        "7x_1 + 8x_2 + 9x_3 = 1\n",
        "\\end{cases}\n",
        "$$\n",
        "\n",
        "#### Solution:\n",
        "Write the coefficient matrix:\n",
        "\n",
        "$$\n",
        "A = \\begin{bmatrix}\n",
        "1 & 2 & 3 \\\\\n",
        "4 & 5 & 6 \\\\\n",
        "7 & 8 & 9\n",
        "\\end{bmatrix}\n",
        "$$\n",
        "\n",
        "Now calculate the determinant of \\( A \\):\n",
        "\n",
        "$$\n",
        "\\text{det}(A) = (1)(5)(9) + (2)(6)(7) + (3)(4)(8) - (3)(5)(7) - (2)(4)(9) - (1)(6)(8).\n",
        "$$\n",
        "\n",
        "Simplifying:\n",
        "\n",
        "$$\n",
        "= 45 + 84 + 96 - 105 - 72 - 48 = 0.\n",
        "$$\n",
        "\n",
        "Since the determinant is \\( 0 \\), the matrix \\( A \\) is singular, meaning it does not have an inverse, and thus the system cannot be solved using Cramer's rule.\n",
        "\n",
        "#### Final Answer:\n",
        "The determinant of the coefficient matrix is zero, so Cramer's rule cannot be applied."
      ],
      "metadata": {
        "id": "X1MOj6WCRU7j"
      }
    },
    {
      "cell_type": "code",
      "source": [
        "import numpy as np\n",
        "\n",
        "# 1. Solve the 2x2 system\n",
        "A1 = np.array([[2, -3], [3, 5]])\n",
        "b1 = np.array([7, 2])\n",
        "solution1 = np.linalg.solve(A1, b1)\n",
        "\n",
        "# 2. Solve the 3x3 system\n",
        "A2 = np.array([[2, 1, -1], [1, -1, 2], [3, 0, -2]])\n",
        "b2 = np.array([1, 4, -1])\n",
        "solution2 = np.linalg.solve(A2, b2)\n",
        "\n",
        "# 3. Solve the 4x4 system\n",
        "A3 = np.array([[1, 1, 1, -1], [1, 0, -1, 2], [2, -3, 0, 1], [3, 1, 3, -4]])\n",
        "b3 = np.array([2, 6, 4, -2])\n",
        "solution3 = np.linalg.solve(A3, b3)\n",
        "\n",
        "# 4. Check if Cramer's rule applies\n",
        "A4 = np.array([[1, 2, 3], [4, 5, 6], [7, 8, 9]])\n",
        "det_A4 = np.linalg.det(A4)\n",
        "\n",
        "solution1, solution2, solution3, det_A4\n"
      ],
      "metadata": {
        "id": "HaV3IUvFgpNN",
        "outputId": "85d70035-331f-476a-b9f1-d3d039893840",
        "colab": {
          "base_uri": "https://localhost:8080/"
        }
      },
      "execution_count": null,
      "outputs": [
        {
          "output_type": "execute_result",
          "data": {
            "text/plain": [
              "(array([ 2.15789474, -0.89473684]),\n",
              " array([1., 1., 2.]),\n",
              " array([0.5, 1. , 6.5, 6. ]),\n",
              " 0.0)"
            ]
          },
          "metadata": {},
          "execution_count": 1
        }
      ]
    }
  ],
  "metadata": {
    "kernelspec": {
      "display_name": "Python 3",
      "language": "python",
      "name": "python3"
    },
    "language_info": {
      "codemirror_mode": {
        "name": "ipython",
        "version": 3
      },
      "file_extension": ".py",
      "mimetype": "text/x-python",
      "name": "python",
      "nbconvert_exporter": "python",
      "pygments_lexer": "ipython3",
      "version": "3.11.9"
    },
    "colab": {
      "provenance": []
    }
  },
  "nbformat": 4,
  "nbformat_minor": 0
}