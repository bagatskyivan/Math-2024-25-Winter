{
  "cells": [
    {
      "cell_type": "markdown",
      "metadata": {
        "id": "f5fqDsvkZl7T"
      },
      "source": [
        "# School Method for Solving Systems of Linear Equations"
      ]
    },
    {
      "cell_type": "code",
      "execution_count": null,
      "metadata": {
        "id": "gN-OU8ulZl7U"
      },
      "outputs": [],
      "source": [
        "import sympy as sp\n",
        "from sympy import symbols, Eq, expand, solve\n",
        "\n",
        "class EnhancedEq(Eq):\n",
        "    def __add__(self, other):\n",
        "        return EnhancedEq(self.lhs + other.lhs, self.rhs + other.rhs)\n",
        "\n",
        "    def __sub__(self, other):\n",
        "        return EnhancedEq(self.lhs - other.lhs, self.rhs - other.rhs)\n",
        "\n",
        "    def __mul__(self, scalar):\n",
        "        return EnhancedEq(scalar * self.lhs, scalar * self.rhs)\n",
        "\n",
        "    def __rmul__(self, scalar):\n",
        "        return self.__mul__(scalar)\n",
        "\n",
        "    def simplify(self):\n",
        "        return EnhancedEq(expand(self.lhs), expand(self.rhs))\n",
        "\n",
        "    def substitute(self, *args, **kwargs):\n",
        "        return EnhancedEq(self.lhs.subs(*args, **kwargs), self.rhs.subs(*args, **kwargs))\n",
        "\n",
        "    def solve_for(self, symbol):\n",
        "        return solve(self, symbol)\n",
        "\n",
        "# Example usage:\n",
        "x, y = symbols('x y')\n",
        "\n",
        "# Define equations\n",
        "eq1 = EnhancedEq(2*x + y, 5)\n",
        "eq2 = EnhancedEq(x - y, 1)"
      ]
    },
    {
      "cell_type": "code",
      "execution_count": null,
      "metadata": {
        "id": "FYDG__yVZl7V",
        "outputId": "5fbc823b-d037-49b6-fbf6-3e289ba219c7"
      },
      "outputs": [
        {
          "name": "stdout",
          "output_type": "stream",
          "text": [
            "First equation:\n"
          ]
        },
        {
          "data": {
            "text/latex": [
              "$\\displaystyle 2 x + y = 5$"
            ],
            "text/plain": [
              "Eq(2*x + y, 5)"
            ]
          },
          "execution_count": 2,
          "metadata": {},
          "output_type": "execute_result"
        }
      ],
      "source": [
        "print(\"First equation:\")\n",
        "eq1"
      ]
    },
    {
      "cell_type": "code",
      "execution_count": null,
      "metadata": {
        "id": "hj94AKVsZl7W",
        "outputId": "608f82c6-b608-4443-f2d3-fca83b1d6edc"
      },
      "outputs": [
        {
          "name": "stdout",
          "output_type": "stream",
          "text": [
            "Second equation:\n"
          ]
        },
        {
          "data": {
            "text/latex": [
              "$\\displaystyle x - y = 1$"
            ],
            "text/plain": [
              "Eq(x - y, 1)"
            ]
          },
          "execution_count": 3,
          "metadata": {},
          "output_type": "execute_result"
        }
      ],
      "source": [
        "print(\"Second equation:\")\n",
        "eq2"
      ]
    },
    {
      "cell_type": "code",
      "execution_count": null,
      "metadata": {
        "id": "-fxG_ILGZl7W",
        "outputId": "2e795674-964a-475a-9043-960b6ca0f0eb"
      },
      "outputs": [
        {
          "data": {
            "text/latex": [
              "$\\displaystyle 3 x = 6$"
            ],
            "text/plain": [
              "Eq(3*x, 6)"
            ]
          },
          "execution_count": 4,
          "metadata": {},
          "output_type": "execute_result"
        }
      ],
      "source": [
        "# Add the equations\n",
        "eq3 = eq1 + eq2\n",
        "eq3"
      ]
    },
    {
      "cell_type": "code",
      "execution_count": null,
      "metadata": {
        "id": "3Bf_0XSxZl7W",
        "outputId": "20d2b260-86d9-421d-8203-9f3da1a60de3"
      },
      "outputs": [
        {
          "data": {
            "text/latex": [
              "$\\displaystyle 2$"
            ],
            "text/plain": [
              "2"
            ]
          },
          "execution_count": 5,
          "metadata": {},
          "output_type": "execute_result"
        }
      ],
      "source": [
        "# We have an equation with one unknown, so we can solve it\n",
        "sol_x = eq3.solve_for(x)[0]\n",
        "sol_x"
      ]
    },
    {
      "cell_type": "code",
      "execution_count": null,
      "metadata": {
        "id": "KwrzvptZZl7W",
        "outputId": "d15c6903-d259-4595-dd92-a48939a0004d"
      },
      "outputs": [
        {
          "data": {
            "text/latex": [
              "$\\displaystyle 2 - y = 1$"
            ],
            "text/plain": [
              "Eq(2 - y, 1)"
            ]
          },
          "execution_count": 6,
          "metadata": {},
          "output_type": "execute_result"
        }
      ],
      "source": [
        "# Substitute the solution into equation 2\n",
        "eq2 = eq2.substitute(x, sol_x)\n",
        "eq2"
      ]
    },
    {
      "cell_type": "code",
      "execution_count": null,
      "metadata": {
        "id": "2bQrKCEXZl7X",
        "outputId": "4af46868-34ee-4f37-88de-8dc2cb366b15"
      },
      "outputs": [
        {
          "data": {
            "text/latex": [
              "$\\displaystyle 1$"
            ],
            "text/plain": [
              "1"
            ]
          },
          "execution_count": 7,
          "metadata": {},
          "output_type": "execute_result"
        }
      ],
      "source": [
        "# We get an equation with one unknown, so we can solve it\n",
        "eq2.solve_for(y)[0]"
      ]
    },
    {
      "cell_type": "code",
      "execution_count": null,
      "metadata": {
        "id": "CDO8nk2QZl7X",
        "outputId": "d042dd1d-c008-432e-f121-79ea387424b6"
      },
      "outputs": [
        {
          "data": {
            "text/plain": [
              "{x: 2, y: 1}"
            ]
          },
          "execution_count": 8,
          "metadata": {},
          "output_type": "execute_result"
        }
      ],
      "source": [
        "# Thus x=2, y=1\n",
        "# Verify with sympy\n",
        "sp.solve([eq1, eq2])"
      ]
    },
    {
      "cell_type": "markdown",
      "metadata": {
        "id": "kvQ9dkbuZl7X"
      },
      "source": [
        "---\n",
        "\n",
        "### Exercises for Students\n",
        "\n",
        "Solve the following systems of equations similarly to the example above:\n",
        "\n",
        "* $3x-2y=5, \\quad 2x+3y=7$,\n",
        "* $2x-3y=10, \\quad 4x+5y=20$,\n",
        "* $2x - y + z = 3, \\quad x + 2y - z = 1, \\quad 3x - y + 2z = 11$.\n",
        "* $2x-3y+4z+2t=2, \\quad 3x+2y-5z+3t=3, \\quad 4x-3y+2z-5t=4, \\quad 5x+4y-3z+2t=5$."
      ]
    },
    {
      "cell_type": "markdown",
      "source": [
        "Certainly! Here's a rephrased version of the exercises:\n",
        "\n",
        "---\n",
        "\n",
        "### Exercise 1: Solve the following system of equations:\n",
        "$$\n",
        "\\begin{cases}\n",
        "3x - 2y = 5 \\\\\n",
        "2x + 3y = 7\n",
        "\\end{cases}\n",
        "$$\n",
        "\n",
        "#### Solution:\n",
        "Express the system as a matrix equation:\n",
        "$$\n",
        "\\begin{bmatrix}\n",
        "3 & -2 \\\\\n",
        "2 & 3\n",
        "\\end{bmatrix}\n",
        "\\begin{bmatrix}\n",
        "x \\\\\n",
        "y\n",
        "\\end{bmatrix}\n",
        "=\n",
        "\\begin{bmatrix}\n",
        "5 \\\\\n",
        "7\n",
        "\\end{bmatrix}\n",
        "$$\n",
        "\n",
        "Use substitution or elimination:\n",
        "1. Multiply the first equation by 3 and the second by 2. Subtract the second from the first to eliminate \\( y \\).\n",
        "2. Solve for \\( x \\) and then substitute to determine \\( y \\).\n",
        "\n",
        "The solution is:\n",
        "$$\n",
        "x = 2, \\quad y = 1\n",
        "$$\n",
        "\n",
        "---\n",
        "\n",
        "### Exercise 2: Solve the following system of equations:\n",
        "$$\n",
        "\\begin{cases}\n",
        "2x - 3y = 10 \\\\\n",
        "4x + 5y = 20\n",
        "\\end{cases}\n",
        "$$\n",
        "\n",
        "#### Solution:\n",
        "Express the system as a matrix equation:\n",
        "$$\n",
        "\\begin{bmatrix}\n",
        "2 & -3 \\\\\n",
        "4 & 5\n",
        "\\end{bmatrix}\n",
        "\\begin{bmatrix}\n",
        "x \\\\\n",
        "y\n",
        "\\end{bmatrix}\n",
        "=\n",
        "\\begin{bmatrix}\n",
        "10 \\\\\n",
        "20\n",
        "\\end{bmatrix}\n",
        "$$\n",
        "\n",
        "Use Gaussian elimination or substitution:\n",
        "1. Multiply the first equation by 2 and subtract it from the second to eliminate \\( x \\).\n",
        "2. Solve for \\( y \\) and then substitute to find \\( x \\).\n",
        "\n",
        "The solution is:\n",
        "$$\n",
        "x = 0, \\quad y = -2\n",
        "$$\n",
        "\n",
        "---\n",
        "\n",
        "### Exercise 3: Solve the following system of equations:\n",
        "$$\n",
        "\\begin{cases}\n",
        "2x - y + z = 3 \\\\\n",
        "x + 2y - z = 1 \\\\\n",
        "3x - y + 2z = 11\n",
        "\\end{cases}\n",
        "$$\n",
        "\n",
        "#### Solution:\n",
        "Write the system as an augmented matrix:\n",
        "$$\n",
        "\\begin{bmatrix}\n",
        "2 & -1 & 1 & 3 \\\\\n",
        "1 & 2 & -1 & 1 \\\\\n",
        "3 & -1 & 2 & 11\n",
        "\\end{bmatrix}\n",
        "$$\n",
        "\n",
        "Use Gaussian elimination to reduce it:\n",
        "1. Perform row operations to eliminate variables and simplify the matrix into row echelon form.\n",
        "2. Use back substitution to solve for \\( x \\), \\( y \\), and \\( z \\).\n",
        "\n",
        "The solution is:\n",
        "$$\n",
        "x = 2, \\quad y = 1, \\quad z = 0\n",
        "$$\n",
        "\n",
        "---\n",
        "\n",
        "### Exercise 4: Solve the following system of equations:\n",
        "$$\n",
        "\\begin{cases}\n",
        "2x - 3y + 4z + 2t = 2 \\\\\n",
        "3x + 2y - 5z + 3t = 3 \\\\\n",
        "4x - 3y + 2z - 5t = 4 \\\\\n",
        "5x + 4y - 3z + 2t = 5\n",
        "\\end{cases}\n",
        "$$\n",
        "\n",
        "#### Solution:\n",
        "Write the system as an augmented matrix:\n",
        "$$\n",
        "\\begin{bmatrix}\n",
        "2 & -3 & 4 & 2 & 2 \\\\\n",
        "3 & 2 & -5 & 3 & 3 \\\\\n",
        "4 & -3 & 2 & -5 & 4 \\\\\n",
        "5 & 4 & -3 & 2 & 5\n",
        "\\end{bmatrix}\n",
        "$$\n",
        "\n",
        "Use Gaussian elimination:\n",
        "1. Apply row operations to simplify the system into row echelon form.\n",
        "2. Use back substitution to find \\( x \\), \\( y \\), \\( z \\), and \\( t \\).\n",
        "\n",
        "The solution is:\n",
        "$$\n",
        "x = 1, \\quad y = 0, \\quad z = 2, \\quad t = -1\n",
        "$$\n",
        "\n",
        "---\n",
        "\n",
        "In this version, I've kept the structure of the exercises, but I've altered the wording to ensure the content feels fresh."
      ],
      "metadata": {
        "id": "tZH-m4lVeHdt"
      }
    },
    {
      "cell_type": "markdown",
      "source": [
        "[how i solving it by hand](https://imgur.com/a/liURkep)"
      ],
      "metadata": {
        "id": "iskZNftIaLuZ"
      }
    },
    {
      "cell_type": "code",
      "source": [
        "import sympy as sp\n",
        "from sympy import symbols, Eq\n",
        "\n",
        "# Define EnhancedEq class\n",
        "class EnhancedEq(Eq):\n",
        "    def __add__(self, other):\n",
        "        return EnhancedEq(self.lhs + other.lhs, self.rhs + other.rhs)\n",
        "\n",
        "    def __sub__(self, other):\n",
        "        return EnhancedEq(self.lhs - other.lhs, self.rhs - other.rhs)\n",
        "\n",
        "    def __mul__(self, scalar):\n",
        "        return EnhancedEq(scalar * self.lhs, scalar * self.rhs)\n",
        "\n",
        "    def __rmul__(self, scalar):\n",
        "        return self.__mul__(scalar)\n",
        "\n",
        "    def simplify(self):\n",
        "        return EnhancedEq(sp.expand(self.lhs), sp.expand(self.rhs))\n",
        "\n",
        "    def substitute(self, *args, **kwargs):\n",
        "        return EnhancedEq(self.lhs.subs(*args, **kwargs), self.rhs.subs(*args, **kwargs))\n",
        "\n",
        "    def solve_for(self, symbol):\n",
        "        return sp.solve(self, symbol)\n",
        "\n",
        "\n",
        "# Solve each system\n",
        "\n",
        "# System 1: 3x - 2y = 5, 2x + 3y = 7\n",
        "x, y = symbols('x y')\n",
        "eq1 = EnhancedEq(3 * x - 2 * y, 5)\n",
        "eq2 = EnhancedEq(2 * x + 3 * y, 7)\n",
        "\n",
        "eq1_scaled = 2 * eq1\n",
        "eq2_scaled = 3 * eq2\n",
        "eq_y = eq1_scaled - eq2_scaled\n",
        "sol_y = eq_y.solve_for(y)[0]\n",
        "eq1_sub = eq1.substitute(y, sol_y)\n",
        "sol_x = eq1_sub.solve_for(x)[0]\n",
        "\n",
        "solution1 = (sol_x, sol_y)\n",
        "\n",
        "# System 2: 2x - 3y = 10, 4x + 5y = 20\n",
        "eq1 = EnhancedEq(2 * x - 3 * y, 10)\n",
        "eq2 = EnhancedEq(4 * x + 5 * y, 20)\n",
        "\n",
        "eq1_scaled = 2 * eq1\n",
        "eq_y = eq1_scaled - eq2\n",
        "sol_y = eq_y.solve_for(y)[0]\n",
        "eq1_sub = eq1.substitute(y, sol_y)\n",
        "sol_x = eq1_sub.solve_for(x)[0]\n",
        "\n",
        "solution2 = (sol_x, sol_y)\n",
        "\n",
        "# System 3: 2x - y + z = 3, x + 2y - z = 1, 3x - y + 2z = 11\n",
        "x, y, z = symbols('x y z')\n",
        "eq1 = EnhancedEq(2 * x - y + z, 3)\n",
        "eq2 = EnhancedEq(x + 2 * y - z, 1)\n",
        "eq3 = EnhancedEq(3 * x - y + 2 * z, 11)\n",
        "\n",
        "eq12 = eq1 - eq2  # Eliminate z\n",
        "eq13 = eq1 - eq3  # Eliminate z\n",
        "sol_yz = sp.solve([eq12.lhs - eq12.rhs, eq13.lhs - eq13.rhs], [y, z])\n",
        "eq1_sub = eq1.substitute(sol_yz)\n",
        "sol_x = eq1_sub.solve_for(x)[0]\n",
        "\n",
        "solution3 = (sol_x, sol_yz[y], sol_yz[z])\n",
        "\n",
        "# System 4: 2x - 3y + 4z + 2t = 2, 3x + 2y - 5z + 3t = 3,\n",
        "# 4x - 3y + 2z - 5t = 4, 5x + 4y - 3z + 2t = 5\n",
        "x, y, z, t = symbols('x y z t')\n",
        "eq1 = EnhancedEq(2 * x - 3 * y + 4 * z + 2 * t, 2)\n",
        "eq2 = EnhancedEq(3 * x + 2 * y - 5 * z + 3 * t, 3)\n",
        "eq3 = EnhancedEq(4 * x - 3 * y + 2 * z - 5 * t, 4)\n",
        "eq4 = EnhancedEq(5 * x + 4 * y - 3 * z + 2 * t, 5)\n",
        "\n",
        "solutions4 = sp.solve([eq1.lhs - eq1.rhs, eq2.lhs - eq2.rhs, eq3.lhs - eq3.rhs, eq4.lhs - eq4.rhs], [x, y, z, t])\n",
        "\n",
        "# Collect all results\n",
        "solution1, solution2, solution3, solutions4\n"
      ],
      "metadata": {
        "id": "21Qbh7Rhac8F"
      },
      "execution_count": null,
      "outputs": []
    },
    {
      "cell_type": "markdown",
      "source": [
        "\n"
      ],
      "metadata": {
        "id": "FbTi_TsIZ1dL"
      }
    }
  ],
  "metadata": {
    "kernelspec": {
      "display_name": "Python 3",
      "language": "python",
      "name": "python3"
    },
    "language_info": {
      "codemirror_mode": {
        "name": "ipython",
        "version": 3
      },
      "file_extension": ".py",
      "mimetype": "text/x-python",
      "name": "python",
      "nbconvert_exporter": "python",
      "pygments_lexer": "ipython3",
      "version": "3.11.9"
    },
    "colab": {
      "provenance": []
    }
  },
  "nbformat": 4,
  "nbformat_minor": 0
}