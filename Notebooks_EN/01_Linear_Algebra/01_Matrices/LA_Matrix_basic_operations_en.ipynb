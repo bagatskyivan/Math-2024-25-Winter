{
  "cells": [
    {
      "cell_type": "markdown",
      "metadata": {
        "id": "O-I-kmWIqXUx"
      },
      "source": [
        "# Basic Matrix Operations\n",
        "\n",
        "### Matrix Addition\n",
        "\n",
        "Let $A=[a_{ij}]$ and $B=[b_{ij}]$ be two matrices of dimensions $m \\times n$. Then the sum of matrices $A$ and $B$ is the matrix $C=[c_{ij}]$ of dimensions $m \\times n$, where $c_{ij}=a_{ij}+b_{ij}$.\n",
        "\n",
        "### Matrix Scalar Multiplication\n",
        "\n",
        "Let $A=[a_{ij}]$ be a matrix of dimensions $m \\times n$, and let $k$ be a scalar. Then the product of matrix $A$ and scalar $k$ is the matrix $B=[b_{ij}]$ of dimensions $m \\times n$, where $b_{ij}=k \\cdot a_{ij}$.\n",
        "\n",
        "### Matrix Multiplication\n",
        "\n",
        "Let $A=[a_{ij}]$ be a matrix of dimensions $m \\times n$, and $B=[b_{ij}]$ be a matrix of dimensions $n \\times p$. Then the product of matrices $A$ and $B$ is the matrix $C=[c_{ij}]$ of dimensions $m \\times p$, where $c_{ij}=\\sum_{k=1}^{n} a_{ik} \\cdot b_{kj}$.\n",
        "\n",
        "\n",
        "### Example 1\n",
        "\n",
        "Let $A=\\begin{bmatrix} 1 & 2 \\\\ 3 & 4 \\end{bmatrix}$ and $B=\\begin{bmatrix} 5 & 6 \\\\ 7 & 8 \\end{bmatrix}$.\n",
        "Then the sum of matrices $A$ and $B$ is\n",
        "\n",
        "$$\n",
        "C=\n",
        "A+B=\\begin{bmatrix} 1+5 & 2+6 \\\\ 3+7 & 4+8 \\end{bmatrix}=\\begin{bmatrix} 6 & 8 \\\\ 10 & 12 \\end{bmatrix}.\n",
        "$$\n",
        "\n",
        "### Example 2\n",
        "\n",
        "Let $A=\\begin{bmatrix} 1 & 2 \\\\ 3 & 4 \\end{bmatrix}$ and $k=2$.\n",
        "\n",
        "Then the product of matrix $A$ and scalar $k$ is\n",
        "\n",
        "$$\n",
        "B=\n",
        "k \\cdot A=2 \\cdot \\begin{bmatrix} 1 & 2 \\\\ 3 & 4 \\end{bmatrix}=\\begin{bmatrix} 2*1 & 2*2 \\\\ 2*3 & 2*4 \\end{bmatrix}=\\begin{bmatrix} 2 & 4 \\\\ 6 & 8 \\end{bmatrix}.\n",
        "$$\n",
        "\n",
        "### Example 3\n",
        "\n",
        "Let\n",
        "$A=\\begin{bmatrix} 1 & 2 \\\\ 3 & 4 \\end{bmatrix}$\n",
        "and\n",
        "$B=\\begin{bmatrix} 5 & 6 \\\\ 7 & 8 \\end{bmatrix}$.\n",
        "\n",
        "Then the product of matrices $A$ and $B$ is\n",
        "\n",
        "$$\n",
        "C=\n",
        "A \\cdot B=\\begin{bmatrix} 1*5+2*7 & 1*6+2*8 \\\\ 3*5+4*7 & 3*6+4*8 \\end{bmatrix}=\\begin{bmatrix} 19 & 22 \\\\ 43 & 50 \\end{bmatrix}.\n",
        "$$"
      ]
    },
    {
      "cell_type": "code",
      "execution_count": null,
      "metadata": {
        "id": "KKrJU32eqXU0"
      },
      "outputs": [],
      "source": [
        "# Example 1: Matrix addition in sympy\n",
        "import sympy as sp\n",
        "\n",
        "A=sp.Matrix([[1,2],[3,4]])\n",
        "B=sp.Matrix([[5,6],[7,8]])\n",
        "A # display matrix A"
      ]
    },
    {
      "cell_type": "code",
      "execution_count": null,
      "metadata": {
        "id": "QdYgOwtMqXU0"
      },
      "outputs": [],
      "source": [
        "B # display matrix B"
      ]
    },
    {
      "cell_type": "code",
      "execution_count": null,
      "metadata": {
        "id": "_II9qMm0qXU1"
      },
      "outputs": [],
      "source": [
        "sp.Matrix([[6,8],[10,12]])==A+B # verify matrix addition"
      ]
    },
    {
      "cell_type": "code",
      "execution_count": null,
      "metadata": {
        "id": "BdQW7ZRgqXU1"
      },
      "outputs": [],
      "source": [
        "# Example 2: Scalar multiplication\n",
        "A=sp.Matrix([[1,2],[3,4]]) # define matrix A\n",
        "\n",
        "sp.Matrix([[2,4],[6,8]])==2*A # verify scalar multiplication"
      ]
    },
    {
      "cell_type": "code",
      "execution_count": null,
      "metadata": {
        "id": "HTrJ_pkiqXU1"
      },
      "outputs": [],
      "source": [
        "# Example 3: Multiplication of two matrices\n",
        "\n",
        "A=sp.Matrix([[1,2],[3,4]]) # define matrix A\n",
        "B=sp.Matrix([[5,6],[7,8]]) # define matrix B\n",
        "\n",
        "sp.Matrix([[19,22],[43,50]])==A*B # verify matrix multiplication"
      ]
    },
    {
      "cell_type": "markdown",
      "metadata": {
        "id": "h6HmsY8KqXU1"
      },
      "source": [
        "### Necessary Condition for Matrix Multiplication\n",
        "\n",
        "Remember that matrices can have different numbers of rows and columns.\n",
        "\n",
        "To multiply two matrices $A_{m \\times n}$ and $B_{n \\times k}$, where $A$ has dimensions $m \\times n$ and $B$ has dimensions $n \\times k$, the number of columns of matrix $A$ must equal the number of rows of matrix $B$. Otherwise, matrix multiplication is not possible.\n",
        "\n",
        "$$\n",
        "A_{m \\times n} \\cdot B_{n \\times k} = C_{m \\times k}\n",
        "$$\n",
        "\n",
        "For example, if $A_{3 \\times 3}$ and $B_{3 \\times 3}$, then the resulting matrix $C_{3 \\times 3}$.\n",
        "\n",
        "<img src=\"https://www.mscroggs.co.uk/img/full/multiply_matrices.gif\" alt=\"Matrix Multiplication GIF\" width=\"400\">\n",
        "\n",
        "### Matrix Multiplication is Not Commutative\n",
        "\n",
        "Matrix multiplication is not commutative, i.e., in general $A \\cdot B \\neq B \\cdot A$."
      ]
    },
    {
      "cell_type": "code",
      "execution_count": null,
      "metadata": {
        "id": "Raeo7UobqXU2"
      },
      "outputs": [],
      "source": [
        "# Example of multiplying rectangular matrices\n",
        "import sympy as sp\n",
        "A=sp.Matrix([[1,2],[3,4],[5,6]]) # define matrix A_{3 x 2}\n",
        "B=sp.Matrix([[1,2,3],[4,5,6]]) # define matrix B_{2 x 3}\n",
        "C=sp.Matrix([[9,12,15],[19,26,33],[29,40,51]]) # define matrix C_{3 x 3}\n",
        "\n",
        "A*B # multiply matrices A and B to get a 3x3 matrix"
      ]
    },
    {
      "cell_type": "code",
      "execution_count": null,
      "metadata": {
        "id": "h6I8Vg_XqXU2"
      },
      "outputs": [],
      "source": [
        "B*A # multiply matrices B and A to get a 2x2 matrix"
      ]
    },
    {
      "cell_type": "code",
      "execution_count": null,
      "metadata": {
        "id": "gkkvuKWQqXU2"
      },
      "outputs": [],
      "source": [
        "B*C # multiply matrices B and C to get a 2x3 matrix"
      ]
    },
    {
      "cell_type": "markdown",
      "metadata": {
        "id": "FCEFx8l-qXU2"
      },
      "source": [
        "---\n",
        "## Exercises for Students\n",
        "\n",
        "1. Calculate the sum of matrices $A=\\begin{bmatrix} 1 & 2 \\\\ 3 & 4 \\end{bmatrix}$ and $B=\\begin{bmatrix} 5 & 6 \\\\ 7 & 8 \\end{bmatrix}$.\n",
        "\n",
        "2. Calculate the product of matrix $A=\\begin{bmatrix} 4 & 2 \\\\ 12 & 4 \\end{bmatrix}$ and scalar $k=\\frac{1}{4}$.\n",
        "\n",
        "3. Calculate the products $A\\cdot B$ and $B \\cdot A$ for matrices $A=\\begin{bmatrix} 3 & 2 \\\\ 2 & 4 \\end{bmatrix}$ and $B=\\begin{bmatrix} 4 & 1 \\\\ 6 & 4 \\end{bmatrix}$."
      ]
    },
    {
      "cell_type": "code",
      "source": [
        "import numpy as np\n",
        "\n",
        "# 1\n",
        "A1 = np.array([[1, 2], [3, 4]])\n",
        "B1 = np.array([[5, 6], [7, 8]])\n",
        "sum_result = A1 + B1\n",
        "\n",
        "# 2\n",
        "A2 = np.array([[4, 2], [12, 4]])\n",
        "k = 1/4\n",
        "scalar_result = k * A2\n",
        "\n",
        "# 3\n",
        "A3 = np.array([[3, 2], [2, 4]])\n",
        "B3 = np.array([[4, 1], [6, 4]])\n",
        "AB_product = np.dot(A3, B3)\n",
        "BA_product = np.dot(B3, A3)\n",
        "\n",
        "print(\"1. Sum of matrices A and B:\\n\", sum_result)\n",
        "print(\"2. Product of matrix A with scalar k:\\n\", scalar_result)\n",
        "print(\"3. Product A * B:\\n\", AB_product)\n",
        "print(\"3. Product B * A:\\n\", BA_product)\n"
      ],
      "metadata": {
        "id": "VAAbitv1qb0z",
        "outputId": "b18232ba-8ffc-4564-a534-4055b16b27ee",
        "colab": {
          "base_uri": "https://localhost:8080/"
        }
      },
      "execution_count": null,
      "outputs": [
        {
          "output_type": "stream",
          "name": "stdout",
          "text": [
            "1. Sum of matrices A and B:\n",
            " [[ 6  8]\n",
            " [10 12]]\n",
            "2. Product of matrix A with scalar k:\n",
            " [[1.  0.5]\n",
            " [3.  1. ]]\n",
            "3. Product A * B:\n",
            " [[24 11]\n",
            " [32 18]]\n",
            "3. Product B * A:\n",
            " [[14 12]\n",
            " [26 28]]\n"
          ]
        }
      ]
    },
    {
      "cell_type": "markdown",
      "source": [
        "Below is a step-by-step solution for the given operations using mathematical notation.\n",
        "\n",
        "---\n",
        "\n",
        "### **1. Sum of Matrices \\(A\\) and \\(B\\):**\n",
        "\n",
        "The sum of matrices is calculated element by element:\n",
        "\n",
        "$$\n",
        "A + B = \\begin{bmatrix} 1 + 5 & 2 + 6 \\\\ 3 + 7 & 4 + 8 \\end{bmatrix}\n",
        "$$\n",
        "\n",
        "Step-by-step:\n",
        "\n",
        "$$\n",
        "A + B = \\begin{bmatrix} 6 & 8 \\\\ 10 & 12 \\end{bmatrix}\n",
        "$$\n",
        "\n",
        "**Result:**\n",
        "\n",
        "$$\n",
        "\\begin{bmatrix} 6 & 8 \\\\ 10 & 12 \\end{bmatrix}\n",
        "$$\n",
        "\n",
        "---\n",
        "\n",
        "### **2. Product of Matrix \\(A\\) with Scalar \\(k = \\frac{1}{4}\\):**\n",
        "\n",
        "Let  \n",
        "\n",
        "$$\n",
        "A = \\begin{bmatrix} 4 & 2 \\\\ 12 & 4 \\end{bmatrix}\n",
        "$$\n",
        "\n",
        "The scalar multiplication is calculated by multiplying each element:\n",
        "\n",
        "$$\n",
        "\\begin{bmatrix} \\frac{4}{4} & \\frac{2}{4} \\\\ \\frac{12}{4} & \\frac{4}{4} \\end{bmatrix}\n",
        "$$\n",
        "\n",
        "Step-by-step:\n",
        "\n",
        "$$\n",
        "A = \\begin{bmatrix} 1 & 0.5 \\\\ 3 & 1 \\end{bmatrix}\n",
        "$$\n",
        "\n",
        "**Result:**\n",
        "\n",
        "$$\n",
        "\\begin{bmatrix} 1 & 0.5 \\\\ 3 & 1 \\end{bmatrix}\n",
        "$$\n",
        "\n",
        "---\n",
        "\n",
        "### **3. Product of Matrices \\(A \\cdot B\\):**\n",
        "\n",
        "Let $$ A = \\begin{bmatrix} 3 & 2 \\\\ 2 & 4 \\end{bmatrix}, B = \\begin{bmatrix} 4 & 1 \\\\ 6 & 4 \\end{bmatrix} $$\n",
        "\n",
        "The product of two matrices is calculated as:\n",
        "$$\n",
        "(A \\cdot B)_{ij} = \\sum_{k=1}^{n} A_{ik} \\cdot B_{kj}\n",
        "$$\n",
        "\n",
        "Step-by-step:\n",
        "$$\n",
        "(A \\cdot B)_{11} = 3 \\cdot 4 + 2 \\cdot 6 = 12 + 12 = 24\n",
        "$$\n",
        "$$\n",
        "(A \\cdot B)_{12} = 3 \\cdot 1 + 2 \\cdot 4 = 3 + 8 = 11\n",
        "$$\n",
        "$$\n",
        "(A \\cdot B)_{21} = 2 \\cdot 4 + 4 \\cdot 6 = 8 + 24 = 32\n",
        "$$\n",
        "$$\n",
        "(A \\cdot B)_{22} = 2 \\cdot 1 + 4 \\cdot 4 = 2 + 16 = 18\n",
        "$$\n",
        "\n",
        "Thus:\n",
        "$$\n",
        "A \\cdot B = \\begin{bmatrix} 24 & 11 \\\\ 32 & 18 \\end{bmatrix}\n",
        "$$\n",
        "\n",
        "**Result:**\n",
        "$$\n",
        "\\begin{bmatrix} 24 & 11 \\\\ 32 & 18 \\end{bmatrix}\n",
        "$$\n",
        "\n",
        "---\n",
        "\n",
        "### Final Answers:\n",
        "1. Sum of matrices:\n",
        "$$\n",
        "\\begin{bmatrix} 6 & 8 \\\\ 10 & 12 \\end{bmatrix}\n",
        "$$\n",
        "\n",
        "2. Product of matrix \\(A\\) with scalar \\(k\\):\n",
        "$$\n",
        "\\begin{bmatrix} 1 & 0.5 \\\\ 3 & 1 \\end{bmatrix}\n",
        "$$\n",
        "\n",
        "3. Product \\(A \\cdot B\\):\n",
        "$$\n",
        "\\begin{bmatrix} 24 & 11 \\\\ 32 & 18 \\end{bmatrix}\n",
        "$$\n"
      ],
      "metadata": {
        "id": "C0SBBrBgvwV0"
      }
    },
    {
      "cell_type": "code",
      "source": [],
      "metadata": {
        "id": "56Wwnq9Pv4I-"
      },
      "execution_count": null,
      "outputs": []
    }
  ],
  "metadata": {
    "kernelspec": {
      "display_name": "Python 3",
      "language": "python",
      "name": "python3"
    },
    "language_info": {
      "name": "python",
      "version": "3.11.9"
    },
    "colab": {
      "provenance": []
    }
  },
  "nbformat": 4,
  "nbformat_minor": 0
}