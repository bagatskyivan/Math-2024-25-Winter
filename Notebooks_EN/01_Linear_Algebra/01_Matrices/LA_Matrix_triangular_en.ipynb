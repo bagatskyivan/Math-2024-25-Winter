{
  "cells": [
    {
      "cell_type": "markdown",
      "metadata": {
        "id": "nLXkn5YiNfaS"
      },
      "source": [
        "# Triangular Matrices and determinant calculation"
      ]
    },
    {
      "cell_type": "code",
      "execution_count": null,
      "metadata": {
        "id": "C66pdXucNfaS",
        "outputId": "db1f76d9-5ea8-411d-d70f-8bc1ece6817c"
      },
      "outputs": [
        {
          "data": {
            "text/markdown": [
              "**Initial Matrix:**"
            ],
            "text/plain": [
              "<IPython.core.display.Markdown object>"
            ]
          },
          "metadata": {},
          "output_type": "display_data"
        },
        {
          "data": {
            "text/latex": [
              "$\\displaystyle \\left[\\begin{matrix}1 & 2 & 3\\\\2 & 5 & 3\\\\3 & 2 & 1\\end{matrix}\\right]$"
            ],
            "text/plain": [
              "Matrix([\n",
              "[1, 2, 3],\n",
              "[2, 5, 3],\n",
              "[3, 2, 1]])"
            ]
          },
          "metadata": {},
          "output_type": "display_data"
        }
      ],
      "source": [
        "import sympy as sp\n",
        "from sympy import Matrix, symbols, Rational\n",
        "from IPython.display import display, Markdown\n",
        "\n",
        "class SymbolicMatrix:\n",
        "    def __init__(self, matrix):\n",
        "        self.matrix = Matrix(matrix).applyfunc(Rational)\n",
        "        self.operations = []\n",
        "        display(Markdown(\"**Initial Matrix:**\"))\n",
        "        display(self.matrix)  # Display the matrix upon initialization\n",
        "\n",
        "    def __repr__(self):\n",
        "        return repr(self.matrix)  # Use Matrix's repr\n",
        "\n",
        "    def __str__(self):\n",
        "        return str(self.matrix)  # Use Matrix's str\n",
        "\n",
        "    def _repr_latex_(self):\n",
        "        return self.matrix._repr_latex_()  # Delegate LaTeX display\n",
        "\n",
        "    def _validate_row_number(self, row):\n",
        "        if not isinstance(row, int):\n",
        "            raise TypeError(\"Row number must be an integer.\")\n",
        "        if row < 1 or row > self.matrix.rows:\n",
        "            raise IndexError(f\"Row number must be in the range from 1 to {self.matrix.rows}.\")\n",
        "        return row - 1\n",
        "\n",
        "    def _validate_col_number(self, col):\n",
        "        if not isinstance(col, int):\n",
        "            raise TypeError(\"Column number must be an integer.\")\n",
        "        if col < 1 or col > self.matrix.cols:\n",
        "            raise IndexError(f\"Column number must be in the range from 1 to {self.matrix.cols}.\")\n",
        "        return col - 1\n",
        "\n",
        "    # Row operations\n",
        "    def add_row(self, target_row, source_row, coefficient):\n",
        "        target_idx = self._validate_row_number(target_row)\n",
        "        source_idx = self._validate_row_number(source_row)\n",
        "        coefficient = Rational(coefficient)\n",
        "\n",
        "        self.matrix.row_op(target_idx, lambda v, j: v + coefficient * self.matrix[source_idx, j])\n",
        "        operation_str = f\"r{target_row} = r{target_row} + {coefficient}*r{source_row}\"\n",
        "        self.operations.append(operation_str)\n",
        "        display(Markdown(f\"**Operation:** {operation_str}\"))\n",
        "        display(self.matrix)\n",
        "\n",
        "    def multiply_row(self, row, coefficient):\n",
        "        row_idx = self._validate_row_number(row)\n",
        "        coefficient = Rational(coefficient)\n",
        "        self.matrix.row_op(row_idx, lambda v, _: coefficient * v)\n",
        "        operation_str = f\"r{row} = {coefficient}*r{row}\"\n",
        "        self.operations.append(operation_str)\n",
        "        display(Markdown(f\"**Operation:** {operation_str}\"))\n",
        "        display(self.matrix)\n",
        "\n",
        "    def swap_rows(self, row1, row2):\n",
        "        row1_idx = self._validate_row_number(row1)\n",
        "        row2_idx = self._validate_row_number(row2)\n",
        "        self.matrix.row_swap(row1_idx, row2_idx)\n",
        "        operation_str = f\"Swap r{row1} <-> r{row2}\"\n",
        "        self.operations.append(operation_str)\n",
        "        display(Markdown(f\"**Operation:** {operation_str}\"))\n",
        "        display(self.matrix)\n",
        "\n",
        "    # Column operations\n",
        "    def add_col(self, target_col, source_col, coefficient):\n",
        "        target_idx = self._validate_col_number(target_col)\n",
        "        source_idx = self._validate_col_number(source_col)\n",
        "        self.matrix.col_op(target_idx, lambda v, i: v + coefficient * self.matrix[i, source_idx])\n",
        "        operation_str = f\"c{target_col} = c{target_col} + {coefficient}*c{source_col}\"\n",
        "        self.operations.append(operation_str)\n",
        "        display(Markdown(f\"**Operation:** {operation_str}\"))\n",
        "        display(self.matrix)\n",
        "\n",
        "    def multiply_col(self, col, coefficient):\n",
        "        col_idx = self._validate_col_number(col)\n",
        "        self.matrix.col_op(col_idx, lambda v, _: coefficient * v)\n",
        "        operation_str = f\"c{col} = {coefficient}*c{col}\"\n",
        "        self.operations.append(operation_str)\n",
        "        display(Markdown(f\"**Operation:** {operation_str}\"))\n",
        "        display(self.matrix)\n",
        "\n",
        "    def swap_cols(self, col1, col2):\n",
        "        col1_idx = self._validate_col_number(col1)\n",
        "        col2_idx = self._validate_col_number(col2)\n",
        "        self.matrix.col_swap(col1_idx, col2_idx)\n",
        "        operation_str = f\"Swap c{col1} <-> c{col2}\"\n",
        "        self.operations.append(operation_str)\n",
        "        display(Markdown(f\"**Operation:** {operation_str}\"))\n",
        "        display(self.matrix)\n",
        "\n",
        "    # Display the operations performed\n",
        "    def print_operations(self):\n",
        "        display(Markdown(\"**Performed Operations:**\"))\n",
        "        for op in self.operations:\n",
        "            print(op)\n",
        "\n",
        "# Example usage\n",
        "mat = [[1, 2, 3], [2, 5, 3], [3, 2, 1]]\n",
        "\n",
        "m = SymbolicMatrix(mat) # instance of SymbolicMatrix class\n",
        "\n",
        "# define the same matrix for computation check\n",
        "original_matrix = sp.Matrix(mat)"
      ]
    },
    {
      "cell_type": "code",
      "execution_count": null,
      "metadata": {
        "id": "OJKLcGsoNfaT",
        "outputId": "1072cec2-d85f-463d-90e4-94f0bf6d419d"
      },
      "outputs": [
        {
          "data": {
            "text/markdown": [
              "**Operation:** r2 = r2 + -2*r1"
            ],
            "text/plain": [
              "<IPython.core.display.Markdown object>"
            ]
          },
          "metadata": {},
          "output_type": "display_data"
        },
        {
          "data": {
            "text/latex": [
              "$\\displaystyle \\left[\\begin{matrix}1 & 2 & 3\\\\0 & 1 & -3\\\\3 & 2 & 1\\end{matrix}\\right]$"
            ],
            "text/plain": [
              "Matrix([\n",
              "[1, 2,  3],\n",
              "[0, 1, -3],\n",
              "[3, 2,  1]])"
            ]
          },
          "metadata": {},
          "output_type": "display_data"
        }
      ],
      "source": [
        "m.add_row(2, 1, -2)"
      ]
    },
    {
      "cell_type": "code",
      "execution_count": null,
      "metadata": {
        "id": "cDagaKWHNfaU",
        "outputId": "a112d2d0-e11a-4215-b554-91b154bb2bf4"
      },
      "outputs": [
        {
          "data": {
            "text/markdown": [
              "**Operation:** r3 = r3 + -3*r1"
            ],
            "text/plain": [
              "<IPython.core.display.Markdown object>"
            ]
          },
          "metadata": {},
          "output_type": "display_data"
        },
        {
          "data": {
            "text/latex": [
              "$\\displaystyle \\left[\\begin{matrix}1 & 2 & 3\\\\0 & 1 & -3\\\\0 & -4 & -8\\end{matrix}\\right]$"
            ],
            "text/plain": [
              "Matrix([\n",
              "[1,  2,  3],\n",
              "[0,  1, -3],\n",
              "[0, -4, -8]])"
            ]
          },
          "metadata": {},
          "output_type": "display_data"
        }
      ],
      "source": [
        "m.add_row(3, 1, -3)"
      ]
    },
    {
      "cell_type": "code",
      "execution_count": null,
      "metadata": {
        "id": "xzIZAtc8NfaU",
        "outputId": "48f52718-5bf5-41e3-ba58-cb67c9defba1"
      },
      "outputs": [
        {
          "data": {
            "text/markdown": [
              "**Operation:** r3 = r3 + 4*r2"
            ],
            "text/plain": [
              "<IPython.core.display.Markdown object>"
            ]
          },
          "metadata": {},
          "output_type": "display_data"
        },
        {
          "data": {
            "text/latex": [
              "$\\displaystyle \\left[\\begin{matrix}1 & 2 & 3\\\\0 & 1 & -3\\\\0 & 0 & -20\\end{matrix}\\right]$"
            ],
            "text/plain": [
              "Matrix([\n",
              "[1, 2,   3],\n",
              "[0, 1,  -3],\n",
              "[0, 0, -20]])"
            ]
          },
          "metadata": {},
          "output_type": "display_data"
        }
      ],
      "source": [
        "m.add_row(3, 2, 4)"
      ]
    },
    {
      "cell_type": "markdown",
      "metadata": {
        "id": "AWqq7D8DNfaU"
      },
      "source": [
        "The resulting matrix is an upper triangular matrix.\n",
        "\n",
        "### Determinant of a Triangular Matrix\n",
        "\n",
        "For a triangular matrix, the determinant is equal to the product of the elements on its diagonal."
      ]
    },
    {
      "cell_type": "code",
      "execution_count": null,
      "metadata": {
        "id": "gexCppGJNfaU",
        "outputId": "1a30afbd-b041-4854-d5fc-4d3cf072bc72"
      },
      "outputs": [
        {
          "data": {
            "text/plain": [
              "True"
            ]
          },
          "execution_count": 5,
          "metadata": {},
          "output_type": "execute_result"
        }
      ],
      "source": [
        "# The determinant of a triangular matrix is the product of the diagonal elements!\n",
        "original_matrix.det() == 1 * 1 * (-20)"
      ]
    },
    {
      "cell_type": "markdown",
      "metadata": {
        "id": "tVaGprgJNfaU"
      },
      "source": [
        "---\n",
        "\n",
        "## Exercises for Students\n",
        "\n",
        "Perform row and column operations to reduce the following matrices to an upper triangular form and calculate their determinants by taking the product of the diagonal elements.\n",
        "\n",
        "1.\n",
        "$$\n",
        "A = \\begin{bmatrix}\n",
        "12 & 3 \\\\\n",
        "-18 & -4\n",
        "\\end{bmatrix}\n",
        "$$\n",
        "\n",
        "2.\n",
        "\n",
        "$$\n",
        "B = \\begin{bmatrix}\n",
        "1 & 2 & 3 \\\\\n",
        "4 & 5 & 6 \\\\\n",
        "7 & 8 & 9\n",
        "\\end{bmatrix}\n",
        "$$"
      ]
    },
    {
      "cell_type": "markdown",
      "metadata": {
        "id": "I0t1YCepNfaU"
      },
      "source": []
    },
    {
      "cell_type": "code",
      "source": [
        "import numpy as np\n",
        "\n",
        "# Function to perform Gaussian elimination and compute determinant\n",
        "def reduce_to_upper_triangular(matrix):\n",
        "    n = matrix.shape[0]\n",
        "    determinant = 1\n",
        "    for i in range(n):\n",
        "        # Partial pivoting (swap rows if necessary)\n",
        "        if matrix[i, i] == 0:\n",
        "            for j in range(i + 1, n):\n",
        "                if matrix[j, i] != 0:\n",
        "                    matrix[[i, j]] = matrix[[j, i]]\n",
        "                    determinant *= -1  # Row swap changes sign of determinant\n",
        "                    break\n",
        "\n",
        "        # Make diagonal elements 1 by row reduction\n",
        "        for j in range(i + 1, n):\n",
        "            if matrix[j, i] != 0:\n",
        "                factor = matrix[j, i] / matrix[i, i]\n",
        "                matrix[j] -= factor * matrix[i]\n",
        "\n",
        "    # Determinant is product of diagonal elements\n",
        "    for i in range(n):\n",
        "        determinant *= matrix[i, i]\n",
        "\n",
        "    return matrix, determinant\n",
        "\n",
        "# Matrices A and B\n",
        "A = np.array([[12, 3], [-18, -4]], dtype=float)\n",
        "B = np.array([[1, 2, 3], [4, 5, 6], [7, 8, 9]], dtype=float)\n",
        "\n",
        "# Reduce matrices to upper triangular form and compute determinants\n",
        "A_upper, det_A = reduce_to_upper_triangular(A.copy())\n",
        "B_upper, det_B = reduce_to_upper_triangular(B.copy())\n",
        "\n",
        "A_upper, det_A, B_upper, det_B\n"
      ],
      "metadata": {
        "id": "_CHpZoCrQqUK",
        "outputId": "e40dfb89-fe5a-465e-c3bb-11f933bca69a",
        "colab": {
          "base_uri": "https://localhost:8080/"
        }
      },
      "execution_count": 1,
      "outputs": [
        {
          "output_type": "execute_result",
          "data": {
            "text/plain": [
              "(array([[12. ,  3. ],\n",
              "        [ 0. ,  0.5]]),\n",
              " 6.0,\n",
              " array([[ 1.,  2.,  3.],\n",
              "        [ 0., -3., -6.],\n",
              "        [ 0.,  0.,  0.]]),\n",
              " -0.0)"
            ]
          },
          "metadata": {},
          "execution_count": 1
        }
      ]
    },
    {
      "cell_type": "markdown",
      "source": [
        "\n",
        "\n",
        "```\n",
        "\n",
        "```\n",
        "Here’s how to solve these matrices by hand, step by step:\n",
        "\n",
        "---\n",
        "\n",
        "### 1. **Matrix \\( A = \\begin{bmatrix} 12 & 3 \\\\ -18 & -4 \\end{bmatrix} \\)**\n",
        "\n",
        "**Step 1: Eliminate the lower left element (-18).**\n",
        "- Multiply the first row by \\( \\frac{-18}{12} = -1.5 \\) and add it to the second row.\n",
        "\\[\n",
        "R_2 \\to R_2 + (-1.5) R_1\n",
        "\\]\n",
        "\n",
        "New matrix:\n",
        "\\[\n",
        "\\begin{bmatrix}\n",
        "12 & 3 \\\\\n",
        "0 & 0.5\n",
        "\\end{bmatrix}\n",
        "\\]\n",
        "\n",
        "**Step 2: The matrix is now in upper triangular form.**\n",
        "- Diagonal elements: \\( 12 \\) and \\( 0.5 \\).\n",
        "\n",
        "**Step 3: Compute the determinant.**\n",
        "- The determinant is the product of the diagonal elements:\n",
        "\\[\n",
        "\\text{Det}(A) = 12 \\times 0.5 = 6\n",
        "\\]\n",
        "\n",
        "---\n",
        "\n",
        "### 2. **Matrix \\( B = \\begin{bmatrix} 1 & 2 & 3 \\\\ 4 & 5 & 6 \\\\ 7 & 8 & 9 \\end{bmatrix} \\)**\n",
        "\n",
        "**Step 1: Eliminate the lower left elements (4 and 7).**\n",
        "- Use the first row \\( R_1 \\) to eliminate the first column entries in \\( R_2 \\) and \\( R_3 \\).\n",
        "  - \\( R_2 \\to R_2 - 4R_1 \\):\n",
        "\\[\n",
        "\\begin{bmatrix}\n",
        "1 & 2 & 3 \\\\\n",
        "0 & -3 & -6 \\\\\n",
        "7 & 8 & 9\n",
        "\\end{bmatrix}\n",
        "\\]\n",
        "  - \\( R_3 \\to R_3 - 7R_1 \\):\n",
        "\\[\n",
        "\\begin{bmatrix}\n",
        "1 & 2 & 3 \\\\\n",
        "0 & -3 & -6 \\\\\n",
        "0 & -6 & -12\n",
        "\\end{bmatrix}\n",
        "\\]\n",
        "\n",
        "**Step 2: Eliminate the lower left element (-6 in row 3, column 2).**\n",
        "- Use the second row \\( R_2 \\) to eliminate the element in the third row, second column:\n",
        "  - \\( R_3 \\to R_3 - 2R_2 \\):\n",
        "\\[\n",
        "\\begin{bmatrix}\n",
        "1 & 2 & 3 \\\\\n",
        "0 & -3 & -6 \\\\\n",
        "0 & 0 & 0\n",
        "\\end{bmatrix}\n",
        "\\]\n",
        "\n",
        "**Step 3: The matrix is now in upper triangular form.**\n",
        "- Diagonal elements: \\( 1, -3, 0 \\).\n",
        "\n",
        "**Step 4: Compute the determinant.**\n",
        "- The determinant is the product of the diagonal elements:\n",
        "\\[\n",
        "\\text{Det}(B) = 1 \\times (-3) \\times 0 = 0\n",
        "\\]\n",
        "\n",
        "---\n",
        "\n",
        "### Summary\n",
        "- For \\( A \\), determinant = \\( 6 \\).\n",
        "- For \\( B \\), determinant = \\( 0 \\).\n"
      ],
      "metadata": {
        "id": "f8NKNQJFRQo1"
      }
    }
  ],
  "metadata": {
    "kernelspec": {
      "display_name": "Python 3",
      "language": "python",
      "name": "python3"
    },
    "language_info": {
      "codemirror_mode": {
        "name": "ipython",
        "version": 3
      },
      "file_extension": ".py",
      "mimetype": "text/x-python",
      "name": "python",
      "nbconvert_exporter": "python",
      "pygments_lexer": "ipython3",
      "version": "3.11.9"
    },
    "colab": {
      "provenance": []
    }
  },
  "nbformat": 4,
  "nbformat_minor": 0
}