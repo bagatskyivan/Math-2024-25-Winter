{
  "cells": [
    {
      "cell_type": "markdown",
      "metadata": {
        "id": "jqOtg8slZAP9"
      },
      "source": [
        "# Determinants of 2x2 and 3x3 matrices\n",
        "\n",
        "### Determinant of a 2x2 Matrix\n",
        "\n",
        "The general formula for the determinant of a 2x2 matrix, where the matrix looks as follows:\n",
        "\n",
        "$$\n",
        "\\mathbf{A} =\n",
        "\\begin{pmatrix}\n",
        "a_{11} & a_{12} \\\\\n",
        "a_{21} & a_{22}\n",
        "\\end{pmatrix}\n",
        "$$\n",
        "\n",
        "The determinant of a 2x2 matrix is calculated using the formula:\n",
        "\n",
        "$$\n",
        "\\text{det}(A) = a_{11} \\cdot a_{22} - a_{12} \\cdot a_{21}\n",
        "$$\n",
        "\n",
        "### Determinant of a 3x3 Matrix\n",
        "\n",
        "The general formula for the determinant of a 3x3 matrix, where the matrix looks as follows:\n",
        "\n",
        "$$\n",
        "\\mathbf{B} =\n",
        "\\begin{pmatrix}\n",
        "a_{11} & a_{12} & a_{13} \\\\\n",
        "a_{21} & a_{22} & a_{23} \\\\\n",
        "a_{31} & a_{32} & a_{33}\n",
        "\\end{pmatrix}\n",
        "$$\n",
        "\n",
        "The determinant of a 3x3 matrix can be calculated using Sarrus' rule or Laplace expansion. Here, we will use Sarrus' rule:\n",
        "\n",
        "$$\n",
        "\\text{det}(B) = a_{11} \\cdot a_{22} \\cdot a_{33} + a_{12} \\cdot a_{23} \\cdot a_{31} + a_{13} \\cdot a_{21} \\cdot a_{32}\n",
        "- a_{13} \\cdot a_{22} \\cdot a_{31} - a_{12} \\cdot a_{21} \\cdot a_{33} - a_{11} \\cdot a_{23} \\cdot a_{32}\n",
        "$$\n",
        "\n",
        "<img src=\"https://upload.wikimedia.org/wikipedia/commons/c/c0/Sarrus_rule1.svg\" alt=\"Image description\" width=\"300\" align=\"center\"/>\n",
        "\n",
        "Note: Sarrus' rule does not work for matrices larger than 3x3.\n",
        "\n",
        "### Calculating Determinants in Python using SymPy\n",
        "\n",
        "Now, using the SymPy library, we will calculate the determinants for 2x2 and 3x3 matrices."
      ]
    },
    {
      "cell_type": "code",
      "execution_count": null,
      "metadata": {
        "id": "adTUap2SZAP-",
        "outputId": "67c07060-0026-46d9-d363-f5e76dd9d657"
      },
      "outputs": [
        {
          "data": {
            "text/latex": [
              "$\\displaystyle \\left[\\begin{matrix}2 & 3\\\\1 & 4\\end{matrix}\\right]$"
            ],
            "text/plain": [
              "Matrix([\n",
              "[2, 3],\n",
              "[1, 4]])"
            ]
          },
          "execution_count": 1,
          "metadata": {},
          "output_type": "execute_result"
        }
      ],
      "source": [
        "import sympy as sp\n",
        "\n",
        "# Define the matrix\n",
        "A = sp.Matrix([[2, 3], [1, 4]])\n",
        "A # display the matrix"
      ]
    },
    {
      "cell_type": "code",
      "execution_count": null,
      "metadata": {
        "notebookRunGroups": {
          "groupValue": "2"
        },
        "id": "b0RXk9F6ZAP_",
        "outputId": "9d6f0855-9cf5-4bfa-f0f5-d87ac8836b79"
      },
      "outputs": [
        {
          "data": {
            "text/plain": [
              "True"
            ]
          },
          "execution_count": 2,
          "metadata": {},
          "output_type": "execute_result"
        }
      ],
      "source": [
        "# Verify the correctness of the calculations\n",
        "(2*4 - 3*1) == A.det()"
      ]
    },
    {
      "cell_type": "code",
      "execution_count": null,
      "metadata": {
        "id": "YEQy8Up1ZAP_",
        "outputId": "88fabc33-91b1-4df2-fab1-317403845436"
      },
      "outputs": [
        {
          "data": {
            "text/latex": [
              "$\\displaystyle \\left[\\begin{matrix}2 & 3 & 1\\\\1 & 4 & 5\\\\3 & 2 & 1\\end{matrix}\\right]$"
            ],
            "text/plain": [
              "Matrix([\n",
              "[2, 3, 1],\n",
              "[1, 4, 5],\n",
              "[3, 2, 1]])"
            ]
          },
          "execution_count": 3,
          "metadata": {},
          "output_type": "execute_result"
        }
      ],
      "source": [
        "# 3x3 Matrix\n",
        "B = sp.Matrix([[2, 3, 1], [1, 4, 5], [3, 2, 1]])\n",
        "B"
      ]
    },
    {
      "cell_type": "code",
      "execution_count": null,
      "metadata": {
        "id": "Nr-Kvk4nZAP_",
        "outputId": "bc4e836d-90f3-4f72-8f39-ae81ec5fcc1b"
      },
      "outputs": [
        {
          "data": {
            "text/plain": [
              "True"
            ]
          },
          "execution_count": 4,
          "metadata": {},
          "output_type": "execute_result"
        }
      ],
      "source": [
        "# Verify the correctness of the calculations\n",
        "(2*4*1 + 3*5*3 + 1*1*2 - 1*4*3 - 5*2*2 - 3*1*1) == B.det()"
      ]
    },
    {
      "cell_type": "markdown",
      "metadata": {
        "id": "VwcYGqldZAQA"
      },
      "source": [
        "---\n",
        "\n",
        "## Exercises for Students\n",
        "\n",
        "Calculate the determinants for the 2x2 and 3x3 matrices given below.\n",
        "\n",
        "1. 2x2 Matrices:\n",
        "\n",
        "$$\n",
        "\\mathbf{A} =\n",
        "\\begin{pmatrix}\n",
        "2 & 3 \\\\\n",
        "1 & 4\n",
        "\\end{pmatrix}\n",
        ", \\qquad\n",
        "\\mathbf{B} =\n",
        "\\begin{pmatrix}\n",
        "5 & 6 \\\\\n",
        "7 & 8\n",
        "\\end{pmatrix}\n",
        ", \\qquad\n",
        "\\mathbf{C} =\n",
        "\\begin{pmatrix}\n",
        "-1 & 2 \\\\\n",
        "3 & 0\n",
        "\\end{pmatrix}\n",
        "$$\n",
        "\n",
        "2. 3x3 Matrices:\n",
        "\n",
        "\n",
        "$$\n",
        "\\mathbf{D} =\n",
        "\\begin{pmatrix}\n",
        "1 & 0 & 2 \\\\\n",
        "-1 & 3 & 1 \\\\\n",
        "2 & 4 & -2\n",
        "\\end{pmatrix}\n",
        ", \\qquad\n",
        "\\mathbf{E} =\n",
        "\\begin{pmatrix}\n",
        "3 & 1 & -1 \\\\\n",
        "0 & 2 & 4 \\\\\n",
        "5 & 3 & 2\n",
        "\\end{pmatrix}\n",
        ", \\qquad\n",
        "\\mathbf{F} =\n",
        "\\begin{pmatrix}\n",
        "2 & -3 & 1 \\\\\n",
        "1 & 4 & -2 \\\\\n",
        "1 & 5 & 3\n",
        "\\end{pmatrix}\n",
        "$$"
      ]
    },
    {
      "cell_type": "markdown",
      "source": [
        "---\n",
        "\n",
        "## Solutions\n",
        "\n",
        "### Determinants of 2x2 Matrices\n",
        "\n",
        "#### 1. For Matrix \\(A\\):\n",
        "The determinant is calculated as:\n",
        "$$\n",
        "\\text{det}(\\mathbf{A}) = (2)(4) - (3)(1) = 8 - 3 = 5\n",
        "$$\n",
        "\n",
        "#### 2. For Matrix \\(B\\):\n",
        "The determinant is:\n",
        "$$\n",
        "\\text{det}(\\mathbf{B}) = (5)(8) - (6)(7) = 40 - 42 = -2\n",
        "$$\n",
        "\n",
        "#### 3. For Matrix \\(C\\):\n",
        "The determinant is:\n",
        "$$\n",
        "\\text{det}(\\mathbf{C}) = (-1)(0) - (2)(3) = 0 - 6 = -6\n",
        "$$\n",
        "\n",
        "---\n",
        "\n",
        "### Determinants of 3x3 Matrices\n",
        "\n",
        "#### 1. For Matrix \\(D\\):\n",
        "We perform cofactor expansion along the first row:\n",
        "$$\n",
        "\\text{det}(\\mathbf{D}) = 1 \\begin{vmatrix} 3 & 1 \\\\ 4 & -2 \\end{vmatrix}\n",
        "- 0 \\begin{vmatrix} -1 & 1 \\\\ 2 & -2 \\end{vmatrix}\n",
        "+ 2 \\begin{vmatrix} -1 & 3 \\\\ 2 & 4 \\end{vmatrix}\n",
        "$$\n",
        "\n",
        "First, calculate the minors:\n",
        "$$\n",
        "\\begin{vmatrix} 3 & 1 \\\\ 4 & -2 \\end{vmatrix} = (3)(-2) - (1)(4) = -6 - 4 = -10\n",
        "$$\n",
        "$$\n",
        "\\begin{vmatrix} -1 & 3 \\\\ 2 & 4 \\end{vmatrix} = (-1)(4) - (3)(2) = -4 - 6 = -10\n",
        "$$\n",
        "\n",
        "Now substitute into the expansion:\n",
        "$$\n",
        "\\text{det}(\\mathbf{D}) = 1(-10) + 0 + 2(-10) = -10 - 20 = -30\n",
        "$$\n",
        "\n",
        "#### 2. For Matrix \\(E\\):\n",
        "Perform cofactor expansion along the first row:\n",
        "$$\n",
        "\\text{det}(\\mathbf{E}) = 3 \\begin{vmatrix} 2 & 4 \\\\ 3 & 2 \\end{vmatrix}\n",
        "- 1 \\begin{vmatrix} 0 & 4 \\\\ 5 & 2 \\end{vmatrix}\n",
        "+ (-1) \\begin{vmatrix} 0 & 2 \\\\ 5 & 3 \\end{vmatrix}\n",
        "$$\n",
        "\n",
        "Calculate the minors:\n",
        "$$\n",
        "\\begin{vmatrix} 2 & 4 \\\\ 3 & 2 \\end{vmatrix} = (2)(2) - (4)(3) = 4 - 12 = -8\n",
        "$$\n",
        "$$\n",
        "\\begin{vmatrix} 0 & 4 \\\\ 5 & 2 \\end{vmatrix} = (0)(2) - (4)(5) = -20\n",
        "$$\n",
        "$$\n",
        "\\begin{vmatrix} 0 & 2 \\\\ 5 & 3 \\end{vmatrix} = (0)(3) - (2)(5) = -10\n",
        "$$\n",
        "\n",
        "Substitute into the formula:\n",
        "$$\n",
        "\\text{det}(\\mathbf{E}) = 3(-8) - 1(-20) + (-1)(-10) = -24 + 20 + 10 = 6\n",
        "$$\n",
        "\n",
        "#### 3. For Matrix \\(F\\):\n",
        "Perform cofactor expansion along the first row:\n",
        "$$\n",
        "\\text{det}(\\mathbf{F}) = 2 \\begin{vmatrix} 4 & -2 \\\\ 5 & 3 \\end{vmatrix}\n",
        "- (-3) \\begin{vmatrix} 1 & -2 \\\\ 1 & 3 \\end{vmatrix}\n",
        "+ 1 \\begin{vmatrix} 1 & 4 \\\\ 1 & 5 \\end{vmatrix}\n",
        "$$\n",
        "\n",
        "Calculate the minors:\n",
        "$$\n",
        "\\begin{vmatrix} 4 & -2 \\\\ 5 & 3 \\end{vmatrix} = (4)(3) - (-2)(5) = 12 + 10 = 22\n",
        "$$\n",
        "$$\n",
        "\\begin{vmatrix} 1 & -2 \\\\ 1 & 3 \\end{vmatrix} = (1)(3) - (-2)(1) = 3 + 2 = 5\n",
        "$$\n",
        "$$\n",
        "\\begin{vmatrix} 1 & 4 \\\\ 1 & 5 \\end{vmatrix} = (1)(5) - (4)(1) = 5 - 4 = 1\n",
        "$$\n",
        "\n",
        "Substitute into the formula:\n",
        "$$\n",
        "\\text{det}(\\mathbf{F}) = 2(22) - (-3)(5) + 1(1) = 44 + 15 + 1 = 60\n",
        "$$\n",
        "\n",
        "---\n",
        "\n",
        "## Final Results:\n",
        "1. $$ \\text{det}(\\mathbf{A}) = 5 $$\n",
        "2. $$ \\text{det}(\\mathbf{B}) = -2 $$\n",
        "3. $$ \\text{det}(\\mathbf{C}) = -6 $$\n",
        "4. $$ \\text{det}(\\mathbf{D}) = -30 $$\n",
        "5. $$ \\text{det}(\\mathbf{E}) = 6 $$\n",
        "6. $$ \\text{det}(\\mathbf{F}) = 60 $$"
      ],
      "metadata": {
        "id": "GWZUsNBSZb5l"
      }
    },
    {
      "cell_type": "code",
      "source": [
        "import numpy as np\n",
        "\n",
        "# Define the matrices\n",
        "A = np.array([[2, 3], [1, 4]])\n",
        "B = np.array([[5, 6], [7, 8]])\n",
        "C = np.array([[-1, 2], [3, 0]])\n",
        "\n",
        "D = np.array([[1, 0, 2], [-1, 3, 1], [2, 4, -2]])\n",
        "E = np.array([[3, 1, -1], [0, 2, 4], [5, 3, 2]])\n",
        "F = np.array([[2, -3, 1], [1, 4, -2], [1, 5, 3]])\n",
        "\n",
        "# Calculate the determinants\n",
        "det_A = np.linalg.det(A)\n",
        "det_B = np.linalg.det(B)\n",
        "det_C = np.linalg.det(C)\n",
        "\n",
        "det_D = np.linalg.det(D)\n",
        "det_E = np.linalg.det(E)\n",
        "det_F = np.linalg.det(F)\n",
        "\n",
        "(det_A, det_B, det_C, det_D, det_E, det_F)\n"
      ],
      "metadata": {
        "colab": {
          "base_uri": "https://localhost:8080/"
        },
        "id": "6UAMMFIDgS5b",
        "outputId": "96104c9c-b8bc-4fcd-a6d9-96490046432c"
      },
      "execution_count": null,
      "outputs": [
        {
          "output_type": "execute_result",
          "data": {
            "text/plain": [
              "(5.000000000000001,\n",
              " -2.000000000000005,\n",
              " -6.0,\n",
              " -29.99999999999999,\n",
              " 5.999999999999995,\n",
              " 60.000000000000036)"
            ]
          },
          "metadata": {},
          "execution_count": 1
        }
      ]
    }
  ],
  "metadata": {
    "kernelspec": {
      "display_name": "Python 3",
      "language": "python",
      "name": "python3"
    },
    "language_info": {
      "codemirror_mode": {
        "name": "ipython",
        "version": 3
      },
      "file_extension": ".py",
      "mimetype": "text/x-python",
      "name": "python",
      "nbconvert_exporter": "python",
      "pygments_lexer": "ipython3",
      "version": "3.11.9"
    },
    "colab": {
      "provenance": []
    }
  },
  "nbformat": 4,
  "nbformat_minor": 0
}