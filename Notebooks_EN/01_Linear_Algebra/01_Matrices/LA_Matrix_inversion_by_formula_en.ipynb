{
  "cells": [
    {
      "cell_type": "markdown",
      "metadata": {
        "id": "3tnrAKYsbLLC"
      },
      "source": [
        "# Matrix Inversion\n",
        "\n",
        "The inverse of a matrix $A$ is a matrix $A^{-1}$ such that $A \\cdot A^{-1} = A^{-1} \\cdot A = I$, where $I$ is the identity matrix.\n",
        "\n",
        "**Example 1:**"
      ]
    },
    {
      "cell_type": "code",
      "execution_count": null,
      "metadata": {
        "id": "qlU3y5swbLLD",
        "outputId": "9befba12-3bee-4162-8ebf-33a2b791651a"
      },
      "outputs": [
        {
          "data": {
            "text/latex": [
              "$\\displaystyle \\left[\\begin{matrix}2 & 1 & 2\\\\5 & 3 & 1\\\\1 & 1 & 5\\end{matrix}\\right]$"
            ],
            "text/plain": [
              "Matrix([\n",
              "[2, 1, 2],\n",
              "[5, 3, 1],\n",
              "[1, 1, 5]])"
            ]
          },
          "execution_count": 1,
          "metadata": {},
          "output_type": "execute_result"
        }
      ],
      "source": [
        "import sympy as sp # import sympy library\n",
        "k1 = sp.Matrix([[2, 1, 2], [5, 3, 1], [1, 1, 5]]) # create matrix k1\n",
        "k1"
      ]
    },
    {
      "cell_type": "code",
      "execution_count": null,
      "metadata": {
        "id": "KLGl2a32bLLD",
        "outputId": "a92a3413-53ad-428c-a343-1e7dc4dd66a3"
      },
      "outputs": [
        {
          "data": {
            "text/latex": [
              "$\\displaystyle \\left[\\begin{matrix}\\frac{7}{4} & - \\frac{3}{8} & - \\frac{5}{8}\\\\-3 & 1 & 1\\\\\\frac{1}{4} & - \\frac{1}{8} & \\frac{1}{8}\\end{matrix}\\right]$"
            ],
            "text/plain": [
              "Matrix([\n",
              "[7/4, -3/8, -5/8],\n",
              "[ -3,    1,    1],\n",
              "[1/4, -1/8,  1/8]])"
            ]
          },
          "execution_count": 2,
          "metadata": {},
          "output_type": "execute_result"
        }
      ],
      "source": [
        "inverse_k1 = k1.inv() # calculate the inverse of matrix k1\n",
        "inverse_k1"
      ]
    },
    {
      "cell_type": "code",
      "execution_count": null,
      "metadata": {
        "id": "RoFHHQPZbLLE",
        "outputId": "d2d7546b-a36b-4e3b-9435-11ef09d51a0a"
      },
      "outputs": [
        {
          "data": {
            "text/latex": [
              "$\\displaystyle \\left[\\begin{matrix}1 & 0 & 0\\\\0 & 1 & 0\\\\0 & 0 & 1\\end{matrix}\\right]$"
            ],
            "text/plain": [
              "Matrix([\n",
              "[1, 0, 0],\n",
              "[0, 1, 0],\n",
              "[0, 0, 1]])"
            ]
          },
          "execution_count": 3,
          "metadata": {},
          "output_type": "execute_result"
        }
      ],
      "source": [
        "k1 * inverse_k1 # verify if multiplying the matrix by its inverse yields the identity matrix"
      ]
    },
    {
      "cell_type": "markdown",
      "metadata": {
        "id": "aq_Cm5OPbLLE"
      },
      "source": [
        "**Example 2:**"
      ]
    },
    {
      "cell_type": "code",
      "execution_count": null,
      "metadata": {
        "id": "Xu3J4g-zbLLE",
        "outputId": "78ed637b-f9f2-421e-a41c-bf305398052c"
      },
      "outputs": [
        {
          "data": {
            "text/latex": [
              "$\\displaystyle \\left[\\begin{matrix}\\frac{e i - f h}{a e i - a f h - b d i + b f g + c d h - c e g} & \\frac{- b i + c h}{a e i - a f h - b d i + b f g + c d h - c e g} & \\frac{b f - c e}{a e i - a f h - b d i + b f g + c d h - c e g}\\\\\\frac{- d i + f g}{a e i - a f h - b d i + b f g + c d h - c e g} & \\frac{a i - c g}{a e i - a f h - b d i + b f g + c d h - c e g} & \\frac{- a f + c d}{a e i - a f h - b d i + b f g + c d h - c e g}\\\\\\frac{d h - e g}{a e i - a f h - b d i + b f g + c d h - c e g} & \\frac{- a h + b g}{a e i - a f h - b d i + b f g + c d h - c e g} & \\frac{a e - b d}{a e i - a f h - b d i + b f g + c d h - c e g}\\end{matrix}\\right]$"
            ],
            "text/plain": [
              "Matrix([\n",
              "[ (e*i - f*h)/(a*e*i - a*f*h - b*d*i + b*f*g + c*d*h - c*e*g), (-b*i + c*h)/(a*e*i - a*f*h - b*d*i + b*f*g + c*d*h - c*e*g),  (b*f - c*e)/(a*e*i - a*f*h - b*d*i + b*f*g + c*d*h - c*e*g)],\n",
              "[(-d*i + f*g)/(a*e*i - a*f*h - b*d*i + b*f*g + c*d*h - c*e*g),  (a*i - c*g)/(a*e*i - a*f*h - b*d*i + b*f*g + c*d*h - c*e*g), (-a*f + c*d)/(a*e*i - a*f*h - b*d*i + b*f*g + c*d*h - c*e*g)],\n",
              "[ (d*h - e*g)/(a*e*i - a*f*h - b*d*i + b*f*g + c*d*h - c*e*g), (-a*h + b*g)/(a*e*i - a*f*h - b*d*i + b*f*g + c*d*h - c*e*g),  (a*e - b*d)/(a*e*i - a*f*h - b*d*i + b*f*g + c*d*h - c*e*g)]])"
            ]
          },
          "execution_count": 4,
          "metadata": {},
          "output_type": "execute_result"
        }
      ],
      "source": [
        "import sympy as sp\n",
        "a, b, c, d, e, f, g, h, i = sp.symbols('a b c d e f g h i') # define variables a-i\n",
        "k = sp.Matrix([[a, b, c], [d, e, f], [g, h, i]]) # create matrix k\n",
        "inverse_k = k.inv()\n",
        "inverse_k"
      ]
    },
    {
      "cell_type": "markdown",
      "metadata": {
        "id": "oPmGsEQkbLLE"
      },
      "source": [
        "This complex form results from the formula that allows for the calculation of the elements of the inverse matrix. Before we proceed, let's define a few concepts.\n",
        "\n",
        "**Matrix Transposition** is an operation that swaps rows with columns. The transpose of a matrix $A$ is a matrix $A^T$ such that $A^T_{ij} = A_{ji}$."
      ]
    },
    {
      "cell_type": "code",
      "execution_count": null,
      "metadata": {
        "id": "yt-RdMoFbLLE",
        "outputId": "e8e8a9ec-2bad-4fbb-b577-c117b9b13c59"
      },
      "outputs": [
        {
          "data": {
            "text/latex": [
              "$\\displaystyle \\left[\\begin{matrix}a & b & c\\\\d & e & f\\\\g & h & i\\end{matrix}\\right]$"
            ],
            "text/plain": [
              "Matrix([\n",
              "[a, b, c],\n",
              "[d, e, f],\n",
              "[g, h, i]])"
            ]
          },
          "execution_count": 5,
          "metadata": {},
          "output_type": "execute_result"
        }
      ],
      "source": [
        "k"
      ]
    },
    {
      "cell_type": "code",
      "execution_count": null,
      "metadata": {
        "id": "oMHmPpjPbLLE",
        "outputId": "c15ff784-13b7-405f-d45e-47987a7bdc86"
      },
      "outputs": [
        {
          "data": {
            "text/latex": [
              "$\\displaystyle \\left[\\begin{matrix}a & d & g\\\\b & e & h\\\\c & f & i\\end{matrix}\\right]$"
            ],
            "text/plain": [
              "Matrix([\n",
              "[a, d, g],\n",
              "[b, e, h],\n",
              "[c, f, i]])"
            ]
          },
          "execution_count": 6,
          "metadata": {},
          "output_type": "execute_result"
        }
      ],
      "source": [
        "k.transpose() # transpose matrix k"
      ]
    },
    {
      "cell_type": "markdown",
      "metadata": {
        "id": "t6PNs_B_bLLF"
      },
      "source": [
        "**Minor** of a matrix $A$ is the determinant of the matrix obtained by removing the $i$-th row and $j$-th column. We denote it by $M_{ij}$."
      ]
    },
    {
      "cell_type": "code",
      "execution_count": null,
      "metadata": {
        "id": "f9esROasbLLF",
        "outputId": "3da8e9b3-63ab-45d2-9e05-f912bb6189af"
      },
      "outputs": [
        {
          "data": {
            "text/latex": [
              "$\\displaystyle \\left[\\begin{matrix}1 & 2 & 3\\\\4 & 5 & 6\\\\7 & 8 & 9\\end{matrix}\\right]$"
            ],
            "text/plain": [
              "Matrix([\n",
              "[1, 2, 3],\n",
              "[4, 5, 6],\n",
              "[7, 8, 9]])"
            ]
          },
          "execution_count": 7,
          "metadata": {},
          "output_type": "execute_result"
        }
      ],
      "source": [
        "# Minor of matrix $A$ is the determinant of the matrix obtained by removing the $i$-th row and $j$-th column. We denote it by $M_{ij}$.\n",
        "k2 = sp.Matrix([[1, 2, 3], [4, 5, 6], [7, 8, 9]])\n",
        "k2"
      ]
    },
    {
      "cell_type": "code",
      "execution_count": null,
      "metadata": {
        "id": "h47-OqotbLLF",
        "outputId": "c23e4d7a-f885-4f00-d7b3-69625b4fd0ab"
      },
      "outputs": [
        {
          "data": {
            "text/latex": [
              "$\\displaystyle \\left[\\begin{matrix}4 & 6\\\\7 & 9\\end{matrix}\\right]$"
            ],
            "text/plain": [
              "Matrix([\n",
              "[4, 6],\n",
              "[7, 9]])"
            ]
          },
          "execution_count": 8,
          "metadata": {},
          "output_type": "execute_result"
        }
      ],
      "source": [
        "M01 = k2.minor_submatrix(0, 1) # calculate minor M01\n",
        "M01"
      ]
    },
    {
      "cell_type": "code",
      "execution_count": null,
      "metadata": {
        "id": "CLeqTXqVbLLF",
        "outputId": "d491954f-4170-460c-f5a5-4050563bbbb2"
      },
      "outputs": [
        {
          "data": {
            "text/latex": [
              "$\\displaystyle \\left[\\begin{matrix}1 & 2\\\\4 & 5\\end{matrix}\\right]$"
            ],
            "text/plain": [
              "Matrix([\n",
              "[1, 2],\n",
              "[4, 5]])"
            ]
          },
          "execution_count": 9,
          "metadata": {},
          "output_type": "execute_result"
        }
      ],
      "source": [
        "M22 = k2.minor_submatrix(2, 2) # calculate minor M22\n",
        "M22"
      ]
    },
    {
      "cell_type": "markdown",
      "metadata": {
        "id": "hNc4rzj9bLLF"
      },
      "source": [
        "**Cofactor** of element $a_{ij} = (-1)^{i+j} \\, M_{ij}$, which is the minor multiplied by $(-1)^{i+j}$.\n",
        "\n",
        "**Rank of a Matrix** is the largest degree of a non-zero minor of the matrix. The rank of a matrix is equal to the number of linearly independent rows or columns in the matrix."
      ]
    },
    {
      "cell_type": "code",
      "execution_count": null,
      "metadata": {
        "id": "90lT2c_BbLLF",
        "outputId": "933f15a0-be7e-406f-c663-f7886b370fcc"
      },
      "outputs": [
        {
          "data": {
            "text/plain": [
              "2"
            ]
          },
          "execution_count": 10,
          "metadata": {},
          "output_type": "execute_result"
        }
      ],
      "source": [
        "k2.rank() # calculate the rank of matrix k2"
      ]
    },
    {
      "cell_type": "markdown",
      "metadata": {
        "id": "cABsmoNsbLLF"
      },
      "source": [
        "### Inverse of a 3x3 Matrix\n",
        "\n",
        "Using the transpose of the cofactor matrix (minors):\n",
        "\n",
        "$$K^{-1} =\n",
        "\\begin{bmatrix}\n",
        "a & b & c \\\\\n",
        "d & e & f \\\\\n",
        "g & h & i\n",
        "\\end{bmatrix}^{-1}\n",
        "= \\frac{1}{\\det(\\mathbf{K})}\n",
        "\\begin{bmatrix}\n",
        "A & B & C \\\\\n",
        "D & E & F \\\\\n",
        "G & H & I\n",
        "\\end{bmatrix}^T\n",
        "= \\frac{1}{\\det(\\mathbf{A})}\n",
        "\\begin{bmatrix}\n",
        "A & D & G \\\\\n",
        "B & E & H \\\\\n",
        "C & F & I\n",
        "\\end{bmatrix}\n",
        "$$\n",
        "\n",
        "If the determinant is non-zero, the matrix is invertible, and the elements of the intermediate matrix on the right-hand side of the above formula are determined by:\n",
        "\n",
        "$$\n",
        "\\begin{aligned}\n",
        "A &= \\text{det} \\left( \\begin{bmatrix} e & f \\\\ h & i \\end{bmatrix} \\right) & B &= -\\text{det} \\left( \\begin{bmatrix} d & f \\\\ g & i \\end{bmatrix} \\right) & C &= \\text{det} \\left( \\begin{bmatrix} d & e \\\\ g & h \\end{bmatrix} \\right) \\\\\n",
        "D &= -\\text{det} \\left( \\begin{bmatrix} b & c \\\\ h & i \\end{bmatrix} \\right) & E &= \\text{det} \\left( \\begin{bmatrix} a & c \\\\ g & i \\end{bmatrix} \\right) & F &= -\\text{det} \\left( \\begin{bmatrix} a & b \\\\ g & h \\end{bmatrix} \\right) \\\\\n",
        "G &= \\text{det} \\left( \\begin{bmatrix} b & c \\\\ e & f \\end{bmatrix} \\right) & H &= -\\text{det} \\left( \\begin{bmatrix} a & c \\\\ d & f \\end{bmatrix} \\right) & I &= \\text{det} \\left( \\begin{bmatrix} a & b \\\\ d & e \\end{bmatrix} \\right)\n",
        "\\end{aligned}\n",
        "$$\n",
        "\n",
        "These are the determinants of 2x2 matrices formed by removing the appropriate rows and columns and taking into account the sign $(-1)^{i+j}$.\n",
        "\n",
        "### Inverse of a 2x2 Matrix\n",
        "\n",
        "Similarly, for a 2x2 matrix, the inverse can be calculated using the cofactor matrix:\n",
        "\n",
        "$$\n",
        "\\mathbf{L}^{-1} =\n",
        "\\begin{bmatrix}\n",
        "a & b \\\\\n",
        "c & d\n",
        "\\end{bmatrix}^{-1}\n",
        "= \\frac{1}{\\det(\\mathbf{L})}\n",
        "\\begin{bmatrix}\n",
        "D & C \\\\\n",
        "B & A\n",
        "\\end{bmatrix}^T\n",
        "= \\frac{1}{\\det(\\mathbf{L})}\n",
        "\\begin{bmatrix}\n",
        "D & B \\\\\n",
        "C & A\n",
        "\\end{bmatrix}\n",
        "$$\n",
        "\n",
        "where $\\det(\\mathbf{L}) = ad - bc$\n",
        "\n",
        "If the determinant is non-zero, the matrix is invertible, and the elements of the intermediate matrix are given as:\n",
        "\n",
        "$$\n",
        "\\begin{aligned}\n",
        "A &= \\text{det} \\begin{bmatrix} d \\end{bmatrix} = d, & B &= -\\text{det} \\begin{bmatrix} b \\end{bmatrix} = -b, & C &= -\\text{det} \\begin{bmatrix} c \\end{bmatrix} = -c, &\n",
        "D &= \\text{det} \\begin{bmatrix} a \\end{bmatrix} = a.\n",
        "\\end{aligned}\n",
        "$$\n",
        "\n",
        "These elements are determined by calculating the determinants of 1x1 matrices formed by removing the appropriate rows and columns from the original 2x2 matrix and applying the corresponding signs $(-1)^{i+j}$."
      ]
    },
    {
      "cell_type": "markdown",
      "metadata": {
        "id": "3bgDf2sSbLLG"
      },
      "source": [
        "---\n",
        "\n",
        "## Exercises for Students\n",
        "\n",
        "1. Find the inverse matrix for\n",
        "\n",
        "$$\n",
        "\\begin{bmatrix}\n",
        "2 & 0 & 1 \\\\\n",
        "0 & 1 & 0 \\\\\n",
        "1 & 2 & 0\n",
        "\\end{bmatrix}\n",
        "$$\n",
        "\n",
        "and verify if the result is correct.\n",
        "\n",
        "2. Using the `det()` command, determine the rank of the matrix below\n",
        "$$\n",
        "A =\n",
        "\\begin{bmatrix}\n",
        "4 & -3 & 7 \\\\\n",
        "-1 & 6 & 3 \\\\\n",
        "2 & 9 & 1\n",
        "\\end{bmatrix}\n",
        "$$"
      ]
    },
    {
      "cell_type": "code",
      "source": [
        "from sympy import Matrix, symbols\n",
        "\n",
        "# Question 1: Finding the inverse matrix\n",
        "matrix_1 = np.array([[2, 0, 1], [0, 1, 0], [1, 2, 0]])\n",
        "inverse_matrix_1 = np.linalg.inv(matrix_1)\n",
        "result_1 = np.dot(matrix_1, inverse_matrix_1)  # Verify by multiplying the original and the inverse\n",
        "\n",
        "# Question 2: Determining the rank using det() for matrix A\n",
        "matrix_A = np.array([[4, -3, 7], [-1, 6, 3], [2, 9, 1]])\n",
        "det_A = np.linalg.det(matrix_A)\n",
        "rank_A = np.linalg.matrix_rank(matrix_A)\n",
        "\n",
        "inverse_matrix_1, result_1, det_A, rank_A\n"
      ],
      "metadata": {
        "id": "iCF3lJihe7d9",
        "outputId": "01f157f6-86d9-4b84-8b9f-4a30faaf834b",
        "colab": {
          "base_uri": "https://localhost:8080/"
        }
      },
      "execution_count": null,
      "outputs": [
        {
          "output_type": "execute_result",
          "data": {
            "text/plain": [
              "(array([[ 0., -2.,  1.],\n",
              "        [ 0.,  1.,  0.],\n",
              "        [ 1.,  4., -2.]]),\n",
              " array([[1., 0., 0.],\n",
              "        [0., 1., 0.],\n",
              "        [0., 0., 1.]]),\n",
              " -251.9999999999998,\n",
              " 3)"
            ]
          },
          "metadata": {},
          "execution_count": 3
        }
      ]
    },
    {
      "cell_type": "markdown",
      "source": [
        "### Matrix Problems\n",
        "\n",
        "---\n",
        "\n",
        "## Problem 1: Find the Inverse of a Matrix and Verify the Result\n",
        "\n",
        "Given the matrix:\n",
        "$$\n",
        "\\mathbf{M} =\n",
        "\\begin{bmatrix}\n",
        "2 & 0 & 1 \\\\\n",
        "0 & 1 & 0 \\\\\n",
        "1 & 2 & 0\n",
        "\\end{bmatrix}\n",
        "$$\n",
        "\n",
        "### Step 1: Compute the Determinant\n",
        "The determinant of \\( \\mathbf{M} \\) is:\n",
        "$$\n",
        "\\text{det}(\\mathbf{M}) =\n",
        "\\begin{vmatrix}\n",
        "2 & 0 & 1 \\\\\n",
        "0 & 1 & 0 \\\\\n",
        "1 & 2 & 0\n",
        "\\end{vmatrix}\n",
        "= 2 \\begin{vmatrix} 1 & 0 \\\\ 2 & 0 \\end{vmatrix}\n",
        "- 0 \\begin{vmatrix} 0 & 0 \\\\ 1 & 0 \\end{vmatrix}\n",
        "+ 1 \\begin{vmatrix} 0 & 1 \\\\ 1 & 2 \\end{vmatrix}\n",
        "$$\n",
        "\n",
        "Compute the minors:\n",
        "$$\n",
        "\\begin{vmatrix} 1 & 0 \\\\ 2 & 0 \\end{vmatrix} = (1)(0) - (0)(2) = 0\n",
        "$$\n",
        "$$\n",
        "\\begin{vmatrix} 0 & 1 \\\\ 1 & 2 \\end{vmatrix} = (0)(2) - (1)(1) = -1\n",
        "$$\n",
        "\n",
        "Substitute back:\n",
        "$$\n",
        "\\text{det}(\\mathbf{M}) = 2(0) + 0 + 1(-1) = -1\n",
        "$$\n",
        "\n",
        "Since \\( \\text{det}(\\mathbf{M}) \\neq 0 \\), the matrix is invertible.\n",
        "\n",
        "### Step 2: Compute the Adjugate Matrix\n",
        "The adjugate is the transpose of the cofactor matrix. First, compute the cofactors:\n",
        "\n",
        "1. $$C_{11} = \\begin{vmatrix} 1 & 0 \\\\ 2 & 0 \\end{vmatrix} = 0$$\n",
        "2. $$ C_{12} = -\\begin{vmatrix} 0 & 0 \\\\ 1 & 0 \\end{vmatrix} = 0 $$\n",
        "3. $$ C_{13} = \\begin{vmatrix} 0 & 1 \\\\ 1 & 2 \\end{vmatrix} = -1 $$\n",
        "4. $$ C_{21} = -\\begin{vmatrix} 0 & 1 \\\\ 2 & 0 \\end{vmatrix} = -2$$\n",
        "5. $$ C_{22} = \\begin{vmatrix} 2 & 1 \\\\ 1 & 0 \\end{vmatrix} = -1 $$\n",
        "6. $$ C_{23} = -\\begin{vmatrix} 2 & 0 \\\\ 1 & 2 \\end{vmatrix} = -4 $$\n",
        "7. $$ C_{31} = \\begin{vmatrix} 0 & 1 \\\\ 1 & 0 \\end{vmatrix} = -1 $$\n",
        "8. $$ C_{32} = -\\begin{vmatrix} 2 & 1 \\\\ 0 & 0 \\end{vmatrix} = 0 $$\n",
        "9. $$ C_{33} = \\begin{vmatrix} 2 & 0 \\\\ 0 & 1 \\end{vmatrix} = 2 $$\n",
        "\n",
        "The cofactor matrix:\n",
        "$$\n",
        "\\mathbf{C} =\n",
        "\\begin{bmatrix}\n",
        "0 & 0 & -1 \\\\\n",
        "-2 & -1 & -4 \\\\\n",
        "-1 & 0 & 2\n",
        "\\end{bmatrix}\n",
        "$$\n",
        "\n",
        "The adjugate matrix is the transpose of \\( \\mathbf{C} \\):\n",
        "$$\n",
        "\\text{adj}(\\mathbf{M}) =\n",
        "\\begin{bmatrix}\n",
        "0 & -2 & -1 \\\\\n",
        "0 & -1 & 0 \\\\\n",
        "-1 & -4 & 2\n",
        "\\end{bmatrix}\n",
        "$$\n",
        "\n",
        "### Step 3: Compute the Inverse\n",
        "The inverse of \\( \\mathbf{M} \\) is:\n",
        "$$\n",
        "\\mathbf{M}^{-1} = \\frac{1}{\\text{det}(\\mathbf{M})} \\cdot \\text{adj}(\\mathbf{M})\n",
        "$$\n",
        "\n",
        "Substitute \\( \\text{det}(\\mathbf{M}) = -1 \\):\n",
        "$$\n",
        "\\mathbf{M}^{-1} =\n",
        "\\begin{bmatrix}\n",
        "0 & 2 & 1 \\\\\n",
        "0 & 1 & 0 \\\\\n",
        "1 & 4 & -2\n",
        "\\end{bmatrix}\n",
        "$$\n",
        "\n",
        "### Step 4: Verify the Result\n",
        "Multiply \\( \\mathbf{M} \\) by \\( \\mathbf{M}^{-1} \\):\n",
        "\n",
        "$$\n",
        "\\mathbf{M} \\cdot \\mathbf{M}^{-1} =\n",
        "\\begin{bmatrix}\n",
        "2 & 0 & 1 \\\\\n",
        "0 & 1 & 0 \\\\\n",
        "1 & 2 & 0\n",
        "\\end{bmatrix}\n",
        "\\cdot\n",
        "\\begin{bmatrix}\n",
        "0 & 2 & 1 \\\\\n",
        "0 & 1 & 0 \\\\\n",
        "1 & 4 & -2\n",
        "\\end{bmatrix}\n",
        "=\n",
        "\\begin{bmatrix}\n",
        "1 & 0 & 0 \\\\\n",
        "0 & 1 & 0 \\\\\n",
        "0 & 0 & 1\n",
        "\\end{bmatrix}\n",
        "$$\n",
        "\n",
        "Thus, the result is verified.\n",
        "\n",
        "---\n",
        "\n",
        "## Problem 2: Determine the Rank of a Matrix\n",
        "\n",
        "Given:\n",
        "$$\n",
        "\\mathbf{A} =\n",
        "\\begin{bmatrix}\n",
        "4 & -3 & 7 \\\\\n",
        "-1 & 6 & 3 \\\\\n",
        "2 & 9 & 1\n",
        "\\end{bmatrix}\n",
        "$$\n",
        "\n",
        "### Step 1: Compute the Determinant of \\( \\mathbf{A} \\)\n",
        "$$\n",
        "\\text{det}(\\mathbf{A}) =\n",
        "4 \\begin{vmatrix} 6 & 3 \\\\ 9 & 1 \\end{vmatrix}\n",
        "- (-3) \\begin{vmatrix} -1 & 3 \\\\ 2 & 1 \\end{vmatrix}\n",
        "+ 7 \\begin{vmatrix} -1 & 6 \\\\ 2 & 9 \\end{vmatrix}\n",
        "$$\n",
        "\n",
        "Calculate the minors:\n",
        "$$\n",
        "\\begin{vmatrix} 6 & 3 \\\\ 9 & 1 \\end{vmatrix} = (6)(1) - (3)(9) = 6 - 27 = -21\n",
        "$$\n",
        "$$\n",
        "\\begin{vmatrix} -1 & 3 \\\\ 2 & 1 \\end{vmatrix} = (-1)(1) - (3)(2) = -1 - 6 = -7\n",
        "$$\n",
        "$$\n",
        "\\begin{vmatrix} -1 & 6 \\\\ 2 & 9 \\end{vmatrix} = (-1)(9) - (6)(2) = -9 - 12 = -21\n",
        "$$\n",
        "\n",
        "Substitute back:\n",
        "$$\n",
        "\\text{det}(\\mathbf{A}) = 4(-21) + 3(-7) + 7(-21) = -84 - 21 - 147 = -252\n",
        "$$\n",
        "\n",
        "Since \\( \\text{det}(\\mathbf{A}) \\neq 0 \\), the matrix has full rank, meaning:\n",
        "$$\n",
        "\\text{rank}(\\mathbf{A}) = 3\n",
        "$$"
      ],
      "metadata": {
        "id": "nw67yaUiiWR0"
      }
    }
  ],
  "metadata": {
    "kernelspec": {
      "display_name": "Python 3",
      "language": "python",
      "name": "python3"
    },
    "language_info": {
      "codemirror_mode": {
        "name": "ipython",
        "version": 3
      },
      "file_extension": ".py",
      "mimetype": "text/x-python",
      "name": "python",
      "nbconvert_exporter": "python",
      "pygments_lexer": "ipython3",
      "version": "3.11.9"
    },
    "colab": {
      "provenance": []
    }
  },
  "nbformat": 4,
  "nbformat_minor": 0
}