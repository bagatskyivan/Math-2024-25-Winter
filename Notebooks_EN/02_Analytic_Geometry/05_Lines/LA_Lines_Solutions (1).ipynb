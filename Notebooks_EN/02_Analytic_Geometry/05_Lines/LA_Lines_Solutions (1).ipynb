{
  "nbformat": 4,
  "nbformat_minor": 0,
  "metadata": {
    "colab": {
      "provenance": []
    },
    "kernelspec": {
      "name": "python3",
      "display_name": "Python 3"
    },
    "language_info": {
      "name": "python"
    }
  },
  "cells": [
    {
      "cell_type": "markdown",
      "source": [
        "# Lines: Mathematical Concepts and Equations\n",
        "\n",
        "## 1. Types of Line Equations in the Plane\n",
        "\n",
        "In the plane, lines can be described by different forms of equations. These forms help in analyzing and solving geometric problems involving lines.\n",
        "\n",
        "## 2. General Equation of a Line\n",
        "\n",
        "The general equation of a line in two dimensions is given by:\n",
        "\n",
        "$$\n",
        "Ax + By + C = 0\n",
        "$$\n",
        "\n",
        "Where:\n",
        "- $A$, $B$, and $C$ are constants.\n",
        "- The coefficients $A$ and $B$ are not both zero.\n",
        "\n",
        "This equation represents a straight line, and the slope and intercept can be derived from this form depending on the specific values of $A$, $B$, and $C$.\n",
        "\n",
        "## 3. Canonical Equation of a Line\n",
        "\n",
        "The canonical (or normal) form of a line is represented as:\n",
        "\n",
        "$$\n",
        "\\mathbf{r} \\cdot \\hat{n} = p\n",
        "$$\n",
        "\n",
        "Where:\n",
        "- $\\mathbf{r}$ is the position vector of any point on the line.\n",
        "- $\\hat{n}$ is the unit vector perpendicular to the line (the normal vector).\n",
        "- $p$ is the perpendicular distance from the origin to the line.\n",
        "\n",
        "This form is particularly useful when dealing with geometric problems involving perpendicular distances.\n",
        "\n",
        "## 4. Line Equation in Intercept Form on the Coordinate Axes\n",
        "\n",
        "The intercept form of the line equation expresses the line in terms of its intercepts on the coordinate axes. For a line that intersects the \\(x\\)-axis at \\(a\\) and the \\(y\\)-axis at \\(b\\), the equation is given by:\n",
        "\n",
        "$$\n",
        "\\frac{x}{a} + \\frac{y}{b} = 1\n",
        "$$\n",
        "\n",
        "Where:\n",
        "- \\(a\\) is the x-intercept.\n",
        "- \\(b\\) is the y-intercept.\n",
        "\n",
        "This form is useful for finding the intercepts of the line directly.\n",
        "\n",
        "## 5. Line Equation in Slope-Intercept Form\n",
        "\n",
        "The slope-intercept form of a line is one of the most common forms, especially when the slope and the y-intercept are known. It is written as:\n",
        "\n",
        "$$\n",
        "y = mx + c\n",
        "$$\n",
        "\n",
        "Where:\n",
        "- $m$ is the slope of the line.\n",
        "- $c$ is the y-intercept, which is the point where the line crosses the y-axis.\n",
        "\n",
        "This form is ideal for sketching the line when the slope and intercept are known.\n",
        "\n",
        "## 6. Line Equation Passing Through a Given Point in a Given Direction\n",
        "\n",
        "If a line passes through a point $P(x_1, y_1)$ and has a direction vector $d$ = (a, b), then the equation of the line can be written in parametric form as:\n",
        "\n",
        "$$\n",
        "x = x_1 + at\n",
        "$$\n",
        "$$\n",
        "y = y_1 + bt\n",
        "$$\n",
        "\n",
        "Where $t$ is a parameter. This form is useful for describing lines in terms of their direction and a specific point through which they pass.\n",
        "\n",
        "## 7. Line Equation Passing Through Two Given Points\n",
        "\n",
        "If two points on the line are given as $P_1(x_1, y_1)$ and $P_2(x_2, y_2)$, the equation of the line passing through these points can be derived using the two-point formula:\n",
        "\n",
        "$$\n",
        "\\frac{y - y_1}{y_2 - y_1} = \\frac{x - x_1}{x_2 - x_1}\n",
        "$$\n",
        "\n",
        "This equation relates the coordinates of any point $(x, y)$on the line to the two given points $P_1$ and $P_2$.\n",
        "\n",
        "## 8. Relative Positions of Lines in the Plane\n",
        "\n",
        "In a plane, two lines can have various relative positions:\n",
        "\n",
        "1. **Parallel Lines:**Two lines are parallel if they have the same slope but different y-intercepts.\n",
        "   $$\n",
        "   m_1 = m_2\n",
        "   $$\n",
        "\n",
        "2. **Intersecting Lines:** Two lines are intersecting if they have different slopes. They intersect at a single point.\n",
        "\n",
        "3. **Coincident Lines:** Two lines are coincident if they have the same slope and the same y-intercept.\n",
        "   $$\n",
        "   m_1 = m_2 \\quad \\text{and} \\quad c_1 = c_2\n",
        "   $$\n",
        "\n",
        "4. **Perpendicular Lines:** Two lines are perpendicular if the product of their slopes is -1.\n",
        "   $$\n",
        "   m_1 \\cdot m_2 = -1\n",
        "   $$\n",
        "\n",
        "## 9. Intersection of Two Lines\n",
        "\n",
        "The intersection of two lines can be found by solving their equations simultaneously. For example, consider the equations of two lines:\n",
        "\n",
        "$$\n",
        "L_1: A_1x + B_1y + C_1 = 0\n",
        "$$\n",
        "$$\n",
        "L_2: A_2x + B_2y + C_2 = 0\n",
        "$$\n",
        "\n",
        "To find the point of intersection, solve this system of linear equations:\n",
        "\n",
        "$$\n",
        "\\begin{cases}\n",
        "A_1x + B_1y = -C_1 \\\\\n",
        "A_2x + B_2y = -C_2\n",
        "\\end{cases}\n",
        "$$\n",
        "\n",
        "Solving these equations yields the coordinates $(x, y)$ of the intersection point.\n",
        "\n",
        "## 10. Angle Between Two Lines\n",
        "\n",
        "The angle $\\theta$ between two lines with slopes $m_1$ and $m_2$ can be found using the following formula:\n",
        "\n",
        "$$\n",
        "\\tan \\theta = \\left| \\frac{m_1 - m_2}{1 + m_1 m_2} \\right|\n",
        "$$\n",
        "\n",
        "The angle $\\theta$ is the angle between the two lines at their intersection. To find the angle, take the arctangent of the result:\n",
        "\n",
        "$$\n",
        "\\theta = \\tan^{-1} \\left( \\left| \\frac{m_1 - m_2}{1 + m_1 m_2} \\right| \\right)\n",
        "$$\n",
        "\n",
        "## 11. Conditions for Parallelism and Perpendicularity of Two Lines\n",
        "\n",
        "- **Parallelism:** Two lines are parallel if their slopes are equal. For the lines $L_1$: $y$ = $m_1x + c_1$ and $L_2: y = m_2x + c_2$, the condition for parallelism is:\n",
        "\n",
        "$$\n",
        "m_1 = m_2\n",
        "$$\n",
        "\n",
        "- **Perpendicularity:** Two lines are perpendicular if the product of their slopes is $-1$. For the lines $L_1$: $y$ = $m_1x + c_1$ and $L_2$: $y$ = $m_2x + c_2$ the condition for perpendicularity is:\n",
        "\n",
        "$$\n",
        "m_1 \\cdot m_2 = -1\n",
        "$$\n",
        "\n"
      ],
      "metadata": {
        "id": "SVa9rLOXgzJe"
      }
    },
    {
      "cell_type": "markdown",
      "source": [
        "# Exercies from .md file:\n",
        "**Visualize each task.** - Python, GeoGebra, Wolfram Alpha, ...\n",
        "\n",
        "* The line passes through points $A(1, 2)$ and $B(3, 4)$. Find the equation of the line.\n",
        "* The line passes through point $A(1, 2)$ and is parallel to the line $y = 2x + 3$. Find the equation of the line.\n",
        "* The line passes through point $A(1, 2)$ and is perpendicular to the line $y = 2x + 3$. Find the equation of the line.\n",
        "* We have two lines $y = 2x + 3$ and $y = 3x + 2$. Find the intersection point of these lines and calculate the angle between them.\n",
        "* Write the equation of the line passing through point $A(1, 2)$ and parallel to the vector $\\vec{v} = [2, 3]$.\n",
        "* We have the line $y = 2x + 3$. Find an example of a line perpendicular and parallel to it.\n",
        "* We have the line $y = 2x + 3$ and point $A(1, 2)$. Find the distance from point $A$ to the line.\n",
        "* The line intersects the coordinate axes at points $A(2, 0)$ and $B(0, 3)$. Find the equation of the line.\n",
        "* Calculate the angle between the line $y = x + 3$ and the $Ox$ axis.\n",
        "* Provide a vector perpendicular to the line $x + y + 1 = 0$."
      ],
      "metadata": {
        "id": "6-kVkPFog8NZ"
      }
    },
    {
      "cell_type": "markdown",
      "source": [
        "\n",
        "\n",
        "---\n",
        "\n",
        "## 1. The line passes through points \\( A(1, 2) \\) and \\( B(3, 4) \\). Find the equation of the line.\n",
        "\n",
        "To determine the slope \\( m \\) of the line passing through points \\( A(x_1, y_1) \\) and \\( B(x_2, y_2) \\), we use the formula:\n",
        "\n",
        "$$\n",
        "m = \\frac{y_2 - y_1}{x_2 - x_1}\n",
        "$$\n",
        "\n",
        "Substituting the coordinates of \\( A(1, 2) \\) and \\( B(3, 4) \\):\n",
        "\n",
        "$$\n",
        "m = \\frac{4 - 2}{3 - 1} = \\frac{2}{2} = 1\n",
        "$$\n",
        "\n",
        "Next, we apply the point-slope form of the line equation, \\( y - y_1 = m(x - x_1) \\). Using \\( m = 1 \\) and point \\( A(1, 2) \\), we get:\n",
        "\n",
        "$$\n",
        "y - 2 = 1(x - 1)\n",
        "$$\n",
        "\n",
        "Simplify the equation:\n",
        "\n",
        "$$\n",
        "y = x + 1\n",
        "$$\n",
        "\n",
        "Therefore, the equation of the line is:\n",
        "\n",
        "$$\n",
        "y = x + 1\n",
        "$$"
      ],
      "metadata": {
        "id": "3wgcdwT5hFQH"
      }
    },
    {
      "cell_type": "code",
      "source": [
        "import matplotlib.pyplot as plt\n",
        "import numpy as np\n",
        "\n",
        "# Points\n",
        "A = np.array([1, 2])\n",
        "B = np.array([3, 4])\n",
        "\n",
        "# Equation of the line y = x + 1\n",
        "x = np.linspace(-1, 5, 400)\n",
        "y = x + 1\n",
        "\n",
        "# Plotting\n",
        "plt.plot(x, y, label=\"y = x + 1\")\n",
        "plt.scatter([A[0], B[0]], [A[1], B[1]], color='red')  # Points A and B\n",
        "plt.text(A[0], A[1], 'A(1, 2)', fontsize=12, verticalalignment='bottom')\n",
        "plt.text(B[0], B[1], 'B(3, 4)', fontsize=12, verticalalignment='bottom')\n",
        "\n",
        "plt.xlim(-1, 5)\n",
        "plt.ylim(-1, 5)\n",
        "plt.axhline(0, color='black',linewidth=0.5)\n",
        "plt.axvline(0, color='black',linewidth=0.5)\n",
        "plt.grid(True)\n",
        "plt.legend()\n",
        "plt.show()"
      ],
      "metadata": {
        "collapsed": true,
        "id": "kLiRVebGbsS6",
        "outputId": "fd14cf0b-fce8-47c5-8aac-6f6dfb1e2202",
        "colab": {
          "base_uri": "https://localhost:8080/",
          "height": 435
        }
      },
      "execution_count": null,
      "outputs": [
        {
          "output_type": "display_data",
          "data": {
            "text/plain": [
              "<Figure size 640x480 with 1 Axes>"
            ],
            "image/png": "[encoded data removed]"
          },
          "metadata": {}
        }
      ]
    },
    {
      "cell_type": "markdown",
      "source": [
        
        "\n",
        "---\n",
        "\n",
        "## 2. The line passes through point \\( A(1, 2) \\) and is parallel to the line \\( y = 2x + 3 \\). Find the equation of the line.\n",
        "\n",
        "Since parallel lines have the same slope, the slope of the required line is the same as the slope of \\( y = 2x + 3 \\), which is \\( m = 2 \\).\n",
        "\n",
        "Using the point-slope form of a line, \\( y - y_1 = m(x - x_1) \\), and substituting \\( m = 2 \\) and \\( A(1, 2) \\):\n",
        "\n",
        "$$\n",
        "y - 2 = 2(x - 1)\n",
        "$$\n",
        "\n",
        "Simplify the equation:\n",
        "\n",
        "$$\n",
        "y - 2 = 2x - 2\n",
        "$$\n",
        "\n",
        "$$\n",
        "y = 2x\n",
        "$$\n",
        "\n",
        "Therefore, the equation of the line passing through \\( A(1, 2) \\) and parallel to \\( y = 2x + 3 \\) is:\n",
        "\n",
        "$$\n",
        "y = 2x\n",
        "$$"
      ],
      "metadata": {
        "id": "Ijs8y9bibp1O"
      }
    },
    {
      "cell_type": "code",
      "source": [
        "# Parallel line y = 2x\n",
        "y_parallel = 2 * x\n",
        "\n",
        "# Plotting\n",
        "plt.plot(x, y_parallel, label=\"y = 2x (Parallel line)\")\n",
        "plt.scatter(A[0], A[1], color='red')  # Point A\n",
        "plt.text(A[0], A[1], 'A(1, 2)', fontsize=12, verticalalignment='bottom')\n",
        "\n",
        "plt.xlim(-1, 5)\n",
        "plt.ylim(-1, 5)\n",
        "plt.axhline(0, color='black',linewidth=0.5)\n",
        "plt.axvline(0, color='black',linewidth=0.5)\n",
        "plt.grid(True)\n",
        "plt.legend()\n",
        "plt.show()\n"
      ],
      "metadata": {
        "collapsed": true,
        "id": "oWCA9SWVcu0m",
        "outputId": "97459527-c1ec-4571-ca68-3bdb36ce50c8",
        "colab": {
          "base_uri": "https://localhost:8080/",
          "height": 435
        }
      },
      "execution_count": null,
      "outputs": [
        {
          "output_type": "display_data",
          "data": {
            "text/plain": [
              "<Figure size 640x480 with 1 Axes>"
            ],
            "image/png": "[encoded data removed]"
          },
          "metadata": {}
        }
      ]
    },
    {
      "cell_type": "markdown",
      "source": [
        "Here’s a slightly rephrased version while keeping the \\( $...$ \\) and \\( $$...$$ \\) formatting:\n",
        "\n",
        "---\n",
        "\n",
        "## 3. The line passes through point \\( A(1, 2) \\) and is perpendicular to the line \\( y = 2x + 3 \\). Find the equation of the line.\n",
        "\n",
        "For two lines to be perpendicular, the product of their slopes must be \\( -1 \\). The slope of the given line \\( y = 2x + 3 \\) is \\( m_1 = 2 \\). Therefore, the slope \\( m_2 \\) of the perpendicular line satisfies:\n",
        "\n",
        "$$\n",
        "m_1 \\cdot m_2 = -1\n",
        "$$\n",
        "\n",
        "Substituting \\( m_1 = 2 \\):\n",
        "\n",
        "$$\n",
        "2 \\cdot m_2 = -1\n",
        "$$\n",
        "\n",
        "$$\n",
        "m_2 = -\\frac{1}{2}\n",
        "$$\n",
        "\n",
        "Now, using the point-slope form of the line equation \\( y - y_1 = m(x - x_1) \\), substitute \\( m_2 = -\\frac{1}{2} \\) and point \\( A(1, 2) \\):\n",
        "\n",
        "$$\n",
        "y - 2 = -\\frac{1}{2}(x - 1)\n",
        "$$\n",
        "\n",
        "Simplify the equation:\n",
        "\n",
        "$$\n",
        "y - 2 = -\\frac{1}{2}x + \\frac{1}{2}\n",
        "$$\n",
        "\n",
        "$$\n",
        "y = -\\frac{1}{2}x + \\frac{5}{2}\n",
        "$$\n",
        "\n",
        "Thus, the equation of the line passing through \\( A(1, 2) \\) and perpendicular to \\( y = 2x + 3 \\) is:\n",
        "\n",
        "$$\n",
        "y = -\\frac{1}{2}x + \\frac{5}{2}\n",
        "$$"
      ],
      "metadata": {
        "id": "VYhqOFO6cA7G"
      }
    },
    {
      "cell_type": "code",
      "source": [
        "# Perpendicular line with slope -1/2\n",
        "y_perpendicular = -0.5 * x + 2.5\n",
        "\n",
        "# Plotting\n",
        "plt.plot(x, y_perpendicular, label=\"y = -0.5x + 2.5 (Perpendicular line)\")\n",
        "plt.scatter(A[0], A[1], color='red')  # Point A\n",
        "plt.text(A[0], A[1], 'A(1, 2)', fontsize=12, verticalalignment='bottom')\n",
        "\n",
        "plt.xlim(-1, 5)\n",
        "plt.ylim(-1, 5)\n",
        "plt.axhline(0, color='black',linewidth=0.5)\n",
        "plt.axvline(0, color='black',linewidth=0.5)\n",
        "plt.grid(True)\n",
        "plt.legend()\n",
        "plt.show()"
      ],
      "metadata": {
        "collapsed": true,
        "id": "oyYlFbKxcxAT",
        "outputId": "8a4f66ff-4902-4cb4-96d6-f8d357c5cfaa",
        "colab": {
          "base_uri": "https://localhost:8080/",
          "height": 435
        }
      },
      "execution_count": null,
      "outputs": [
        {
          "output_type": "display_data",
          "data": {
            "text/plain": [
              "<Figure size 640x480 with 1 Axes>"
            ],
            "image/png": "[encoded data removed]"
          },
          "metadata": {}
        }
      ]
    },
    {
      "cell_type": "markdown",
      "source": [
        
        "\n",
        "---\n",
        "\n",
        "## 4. We have two lines \\( y = 2x + 3 \\) and \\( y = 3x + 2 \\). Find the intersection point of these lines and calculate the angle between them.\n",
        "\n",
        "### Intersection Point:\n",
        "\n",
        "To find the intersection point, equate the two line equations:\n",
        "\n",
        "$$\n",
        "2x + 3 = 3x + 2\n",
        "$$\n",
        "\n",
        "Solve for \\( x \\):\n",
        "\n",
        "$$\n",
        "2x - 3x = 2 - 3\n",
        "$$\n",
        "\n",
        "$$\n",
        "-x = -1\n",
        "$$\n",
        "\n",
        "$$\n",
        "x = 1\n",
        "$$\n",
        "\n",
        "Substitute \\( x = 1 \\) into either equation to find \\( y \\). Using \\( y = 2x + 3 \\):\n",
        "\n",
        "$$\n",
        "y = 2(1) + 3 = 5\n",
        "$$\n",
        "\n",
        "Thus, the intersection point is:\n",
        "\n",
        "$$\n",
        "(1, 5)\n",
        "$$\n",
        "\n",
        "### Angle Between the Lines:\n",
        "\n",
        "The slopes of the lines are \\( m_1 = 2 \\) and \\( m_2 = 3 \\). The angle \\( \\theta \\) between two lines is given by:\n",
        "\n",
        "$$\n",
        "\\tan \\theta = \\left| \\frac{m_1 - m_2}{1 + m_1 m_2} \\right|\n",
        "$$\n",
        "\n",
        "Substituting \\( m_1 = 2 \\) and \\( m_2 = 3 \\):\n",
        "\n",
        "$$\n",
        "\\tan \\theta = \\left| \\frac{2 - 3}{1 + 2 \\cdot 3} \\right| = \\left| \\frac{-1}{7} \\right| = \\frac{1}{7}\n",
        "$$\n",
        "\n",
        "Thus:\n",
        "\n",
        "$$\n",
        "\\theta = \\tan^{-1} \\left( \\frac{1}{7} \\right)\n",
        "$$\n",
        "\n",
        "The angle between the lines is approximately:\n",
        "\n",
        "$$\n",
        "\\theta \\approx 8.13^\\circ\n",
        "$$"
      ],
      "metadata": {
        "id": "giCBT4hrcIzY"
      }
    },
    {
      "cell_type": "code",
      "source": [
        "# Lines\n",
        "y1 = 2 * x + 3\n",
        "y2 = 3 * x + 2\n",
        "\n",
        "# Intersection (solving 2x + 3 = 3x + 2)\n",
        "x_intersect = 1\n",
        "y_intersect = 5\n",
        "\n",
        "# Plotting\n",
        "plt.plot(x, y1, label=\"y = 2x + 3\")\n",
        "plt.plot(x, y2, label=\"y = 3x + 2\")\n",
        "plt.scatter(x_intersect, y_intersect, color='red', label=\"Intersection (1, 5)\")\n",
        "\n",
        "plt.xlim(-1, 5)\n",
        "plt.ylim(-1, 5)\n",
        "plt.axhline(0, color='black',linewidth=0.5)\n",
        "plt.axvline(0, color='black',linewidth=0.5)\n",
        "plt.grid(True)\n",
        "plt.legend()\n",
        "plt.show()\n"
      ],
      "metadata": {
        "id": "TPr4oJJOehnT"
      },
      "execution_count": null,
      "outputs": []
    },
    {
      "cell_type": "markdown",
      "source": [
        
        "\n",
        "---\n",
        "\n",
        "## 5. Write the equation of the line passing through point \\( A(1, 2) \\) and parallel to the vector \\( \\vec{v} = [2, 3] \\).\n",
        "\n",
        "The direction vector of the line is \\( \\vec{v} = [2, 3] \\), which gives the slope:\n",
        "\n",
        "$$\n",
        "m = \\frac{3}{2}\n",
        "$$\n",
        "\n",
        "Using the point-slope form of the line equation, \\( y - y_1 = m(x - x_1) \\), substitute \\( m = \\frac{3}{2} \\) and point \\( A(1, 2) \\):\n",
        "\n",
        "$$\n",
        "y - 2 = \\frac{3}{2}(x - 1)\n",
        "$$\n",
        "\n",
        "Simplify the equation:\n",
        "\n",
        "$$\n",
        "y - 2 = \\frac{3}{2}x - \\frac{3}{2}\n",
        "$$\n",
        "\n",
        "$$\n",
        "y = \\frac{3}{2}x - \\frac{1}{2}\n",
        "$$\n",
        "\n",
        "Thus, the equation of the line is:\n",
        "\n",
        "$$\n",
        "y = \\frac{3}{2}x - \\frac{1}{2}\n",
        "$$"
      ],
      "metadata": {
        "id": "MtzYFeJlcRYZ"
      }
    },
    {
      "cell_type": "code",
      "source": [
        "# Vector v = [2, 3] gives the slope m = 3/2\n",
        "m = 3 / 2\n",
        "y_vector = m * x - 0.5  # Using point (1, 2)\n",
        "\n",
        "# Plotting\n",
        "plt.plot(x, y_vector, label=\"y = 1.5x - 0.5 (Parallel to v)\")\n",
        "plt.scatter(A[0], A[1], color='red')  # Point A\n",
        "plt.text(A[0], A[1], 'A(1, 2)', fontsize=12, verticalalignment='bottom')\n",
        "\n",
        "plt.xlim(-1, 5)\n",
        "plt.ylim(-1, 5)\n",
        "plt.axhline(0, color='black',linewidth=0.5)\n",
        "plt.axvline(0, color='black',linewidth=0.5)\n",
        "plt.grid(True)\n",
        "plt.legend()\n",
        "plt.show()\n"
      ],
      "metadata": {
        "id": "kegYUnP_ejrn"
      },
      "execution_count": null,
      "outputs": []
    },
    {
      "cell_type": "markdown",
      "source": [
        
        "\n",
        "---\n",
        "\n",
        "## 6. We have the line \\( y = 2x + 3 \\). Find an example of a line perpendicular and parallel to it.\n",
        "\n",
        "### Parallel Line:\n",
        "\n",
        "A parallel line has the same slope as \\( y = 2x + 3 \\), which is \\( m = 2 \\). Using point \\( A(1, 2) \\):\n",
        "\n",
        "$$\n",
        "y - 2 = 2(x - 1)\n",
        "$$\n",
        "\n",
        "Simplify:\n",
        "\n",
        "$$\n",
        "y - 2 = 2x - 2\n",
        "$$\n",
        "\n",
        "$$\n",
        "y = 2x\n",
        "$$\n",
        "\n",
        "### Perpendicular Line:\n",
        "\n",
        "The slope of a line perpendicular to \\( y = 2x + 3 \\) is the negative reciprocal of 2, so \\( m = -\\frac{1}{2} \\). Using point \\( A(1, 2) \\):\n",
        "\n",
        "$$\n",
        "y - 2 = -\\frac{1}{2}(x - 1)\n",
        "$$\n",
        "\n",
        "Simplify:\n",
        "\n",
        "$$\n",
        "y - 2 = -\\frac{1}{2}x + \\frac{1}{2}\n",
        "$$\n",
        "\n",
        "$$\n",
        "y = -\\frac{1}{2}x + \\frac{5}{2}\n",
        "$$\n",
        "\n",
        "Thus, examples of a parallel line and a perpendicular line are:\n",
        "\n",
        "- Parallel: \\( y = 2x \\)\n",
        "- Perpendicular: \\( y = -\\frac{1}{2}x + \\frac{5}{2} \\)"
      ],
      "metadata": {
        "id": "iLm5RPEzcWC2"
      }
    },
    {
      "cell_type": "code",
      "source": [
        "# Parallel line (y = 2x)\n",
        "y_parallel = 2 * x\n",
        "\n",
        "# Perpendicular line (m = -1/2)\n",
        "y_perpendicular = -0.5 * x + 3.5\n",
        "\n",
        "# Plotting\n",
        "plt.plot(x, y_parallel, label=\"Parallel line: y = 2x\")\n",
        "plt.plot(x, y_perpendicular, label=\"Perpendicular line: y = -0.5x + 3.5\")\n",
        "\n",
        "plt.xlim(-1, 5)\n",
        "plt.ylim(-1, 5)\n",
        "plt.axhline(0, color='black',linewidth=0.5)\n",
        "plt.axvline(0, color='black',linewidth=0.5)\n",
        "plt.grid(True)\n",
        "plt.legend()\n",
        "plt.show()\n"
      ],
      "metadata": {
        "id": "57KREOg-gLo5"
      },
      "execution_count": null,
      "outputs": []
    },
    {
      "cell_type": "markdown",
      "source": [
        
        "\n",
        "---\n",
        "\n",
        "## 7. We have the line \\( y = 2x + 3 \\) and point \\( A(1, 2) \\). Find the distance from point \\( A \\) to the line.\n",
        "\n",
        "The distance \\( d \\) from a point \\( (x_1, y_1) \\) to a line \\( Ax + By + C = 0 \\) is given by:\n",
        "\n",
        "$$\n",
        "d = \\frac{|Ax_1 + By_1 + C|}{\\sqrt{A^2 + B^2}}\n",
        "$$\n",
        "\n",
        "For the line \\( y = 2x + 3 \\), rewrite it in standard form as \\( 2x - y + 3 = 0 \\), where \\( A = 2 \\), \\( B = -1 \\), and \\( C = 3 \\). The point \\( A(1, 2) \\) corresponds to \\( (x_1, y_1) \\).\n",
        "\n",
        "Substitute these values into the distance formula:\n",
        "\n",
        "$$\n",
        "d = \\frac{|2(1) - 1(2) + 3|}{\\sqrt{2^2 + (-1)^2}}\n",
        "$$\n",
        "\n",
        "Simplify:\n",
        "\n",
        "$$\n",
        "d = \\frac{|2 - 2 + 3|}{\\sqrt{4 + 1}} = \\frac{|3|}{\\sqrt{5}} = \\frac{3}{\\sqrt{5}}\n",
        "$$\n",
        "\n",
        "Thus, the distance from point \\( A(1, 2) \\) to the line \\( y = 2x + 3 \\) is:\n",
        "\n",
        "$$\n",
        "d = \\frac{3}{\\sqrt{5}}\n",
        "$$"
      ],
      "metadata": {
        "id": "hsUUHf7CcZno"
      }
    },
    {
      "cell_type": "code",
      "source": [
        "# Using the formula for distance from point (x1, y1) to line Ax + By + C = 0\n",
        "A_line = 2\n",
        "B_line = -1\n",
        "C_line = 3\n",
        "x1, y1 = 1, 2\n",
        "\n",
        "# Distance formula\n",
        "distance = abs(A_line * x1 + B_line * y1 + C_line) / np.sqrt(A_line**2 + B_line**2)\n",
        "\n",
        "# Display distance\n",
        "print(f\"Distance from point A to the line: {distance}\")"
      ],
      "metadata": {
        "id": "JW-yVT2wgNuN"
      },
      "execution_count": null,
      "outputs": []
    },
    {
      "cell_type": "markdown",
      "source": [
        "## 8. The line intersects the coordinate axes at points $A(2, 0)$ and $B(0, 3)$. Find the equation of the line.\n",
        "\n",
        "The line passes through the intercepts $ A(2, 0) $ and $ B(0, 3) $. Using the intercept form:\n",
        "\n",
        "$$\n",
        "\\frac{x}{2} + \\frac{y}{3} = 1\n",
        "$$\n",
        "\n",
        "Thus, the equation of the line is:\n",
        "\n",
        "$$\n",
        "\\frac{x}{2} + \\frac{y}{3} = 1\n",
        "$$"
      ],
      "metadata": {
        "id": "8wZe5cSXcc51"
      }
    },
    {
      "cell_type": "code",
      "source": [
        "# Intercepts\n",
        "A_intercept = [2, 0]\n",
        "B_intercept = [0, 3]\n",
        "\n",
        "# Plotting the line through intercepts\n",
        "x_intercepts = np.linspace(-1, 3, 400)\n",
        "y_intercepts = (3 / 2) * x_intercepts + 3  # Equation based on intercept form\n",
        "\n",
        "# Plotting\n",
        "plt.plot(x_intercepts, y_intercepts, label=\"Line through intercepts\")\n",
        "plt.scatter([A_intercept[0], B_intercept[0]], [A_intercept[1], B_intercept[1]], color='red')\n",
        "\n",
        "plt.xlim(-1, 3)\n",
        "plt.ylim(-1, 4)\n",
        "plt.axhline(0, color='black',linewidth=0.5)\n",
        "plt.axvline(0, color='black',linewidth=0.5)\n",
        "plt.grid(True)\n",
        "plt.legend()\n",
        "plt.show()\n"
      ],
      "metadata": {
        "id": "7xHQDOdDgQqQ"
      },
      "execution_count": null,
      "outputs": []
    },
    {
      "cell_type": "markdown",
      "source": [
        "## 9. Calculate the angle between the line $y = x + 3$ and the $Ox$ axis.\n",
        "\n",
        "The slope of the line $ y = x + 3 $ is $ m = 1 $. The angle $ \\theta $ between the line and the $ Ox $-axis is given by:\n",
        "\n",
        "$$\n",
        "\\tan \\theta = |m|\n",
        "$$\n",
        "\n",
        "Substitute $ m = 1 $:\n",
        "\n",
        "$$\n",
        "\\tan \\theta = 1\n",
        "$$\n",
        "\n",
        "Thus:\n",
        "\n",
        "$$\n",
        "\\theta = \\tan^{-1}(1) = 45^\\circ\n",
        "$$"
      ],
      "metadata": {
        "id": "ZBqcDKtfce40"
      }
    },
    {
      "cell_type": "code",
      "source": [
        "# Slope m = 1\n",
        "m = 1\n",
        "angle = np.arctan(m) * 180 / np.pi  # Convert radian to degrees\n",
        "print(f\"Angle between the line and Ox axis: {angle} degrees\")\n"
      ],
      "metadata": {
        "id": "meA4-K0OgVQb"
      },
      "execution_count": null,
      "outputs": []
    },
    {
      "cell_type": "markdown",
      "source": [
        "## 10. Provide a vector perpendicular to the line $x + y + 1 = 0$.\n",
        "\n",
        "The normal vector to the line $ x + y + 1 = 0 $ is $ \\vec{n} = [1, 1] $, as the coefficients of $ x $ and $ y $ in the equation represent the components of the normal\n"
      ],
      "metadata": {
        "id": "hISkw-OGcg1s"
      }
    },
    {
      "cell_type": "code",
      "source": [
        "# Perpendicular vector to the line x + y + 1 = 0\n",
        "# The vector normal to this line is the coefficient of x and y: [1, 1]\n",
        "perpendicular_vector = np.array([1, 1])\n",
        "print(f\"Perpendicular vector: {perpendicular_vector}\")"
      ],
      "metadata": {
        "id": "lHjo0I9_gW7O"
      },
      "execution_count": null,
      "outputs": []
    }
  ]
}
